{
 "cells": [
  {
   "cell_type": "markdown",
   "metadata": {},
   "source": [
    "# Week 10 of Introduction to Biological System Design\n",
    "## Compiling Chemical Reaction Network Models for Biological Systems\n",
    "### Ayush Pandey\n",
    "\n",
    "Pre-requisite: To get the best out of this notebook, make sure that you have basic understanding of chemical reaction networks and ordinary differential equations (ODE). Further, we also use Hill functions to build models of biological systems. Refer to the [E164 class material](pages.hmc.edu/pandey/) for background on any topics in this notebook.\n",
    "\n",
    "This notebook discusses a Python package called [BioCRNpyler](https://github.com/BuildACell/BioCRNPyler) (pronounced Bio-Compiler) that can be used to compile chemical reaction network models for biological systems.\n",
    "\n",
    "Disclaimer: The content in this notebook is taken from the BioCRNpyler Github examples. \n",
    "Copyright: Build-A-Cell.\n",
    "Package Authors: William Poole, Ayush Pandey, Andrey Shur, Zoltan Tuza, and Richard M. Murray\n"
   ]
  },
  {
   "cell_type": "markdown",
   "metadata": {},
   "source": [
    "## Building Chemical Reaction Networks (CRNs) Directly with BioCRNpyler\n",
    "\n",
    "### What is a CRN?\n",
    "A CRN is a widely established model of chemistry and biochemistry.\n",
    "* A set of species $S$\n",
    "* A set of reactions $R$ interconvert species $I_r$ to $O_r$\n",
    "\n",
    "\\begin{align}\n",
    "\\\\\n",
    "I \\xrightarrow[]{\\rho(s)} O\n",
    "\\\\\n",
    "\\end{align}\n",
    "\n",
    " * $I$ and $O$ are multisets of species $S$. \n",
    " * $\\rho(s): S \\to \\mathbb{R}$ is a function that determines how fast the reaction occurs.\n"
   ]
  },
  {
   "cell_type": "code",
   "execution_count": null,
   "metadata": {},
   "outputs": [],
   "source": [
    "# Running this notebook for the first time? \n",
    "# Make sure you have biocrnpyler installed in your environment.\n",
    "# To install biocrnpyler uncomment the following and run:\n",
    "# !pip install biocrnpyler"
   ]
  },
  {
   "cell_type": "code",
   "execution_count": 1,
   "metadata": {},
   "outputs": [
    {
     "name": "stderr",
     "output_type": "stream",
     "text": [
      "C:\\Users\\apand\\AppData\\Local\\Continuum\\anaconda3\\lib\\site-packages\\pandas\\compat\\_optional.py:138: UserWarning: Pandas requires version '2.7.0' or newer of 'numexpr' (version '2.6.9' currently installed).\n",
      "  warnings.warn(msg, UserWarning)\n"
     ]
    }
   ],
   "source": [
    "#Import everything from biocrnpyler\n",
    "from biocrnpyler import *"
   ]
  },
  {
   "cell_type": "markdown",
   "metadata": {},
   "source": [
    "## Combining Species and Reactions into a CRN\n",
    "\n",
    "The following code defines a species called 'S' made out of material 'material'. Species can also have attributes to help identify them. Note that Species with the same name, but different materials or attributes are considered different species in terms of the reactions they participate in.\n",
    "\n",
    "    S = Species('name', material_type = 'material', attributes = [])\n",
    "\n",
    "The collowing code produces a reaction R\n",
    "    \n",
    "    R = Reaction(Inputs, Outputs, k)\n",
    "\n",
    "here Inputs and Outputs must both be a list of Species. the parameter k is the rate constant of the reaction. By default, propensities in BioCRNpyler are massaction:\n",
    "\n",
    "### $\\rho(S) = k \\Pi_{s} s^{I_s}$\n",
    "\n",
    "Note: for stochastic models mass action propensities are $\\rho(S) = k \\Pi_{s} s!/(s - I_s)!$.\n",
    "\n",
    "Massaction reactions can be made reversible with the k_rev keyword:\n",
    "\n",
    "    R_reversible = Reaction(Inputs, Outputs, k, k_rev = krev)\n",
    "\n",
    "is the same as two reactions:\n",
    "\n",
    "    R = Reaction(Inputs, Outputs, k)\n",
    "    Rrev = Reaction(Outputs, Inputs, krev)\n",
    "\n",
    "\n",
    "Finally, a CRN can be made by combining species and reactions:\n",
    "\n",
    "    CRN = ChemicalReactionNetwork(species = species, reactions = reactions, initial_condition_dict = {})\n",
    "\n",
    "Here, initial_condition_dict is an optional dictionary to store the initial values of different species. \n",
    "\n",
    "    initial_condition_dict = {Species:value}\n",
    "\n",
    "Species without an initial condition will default to 0."
   ]
  },
  {
   "cell_type": "markdown",
   "metadata": {},
   "source": [
    "### An example:"
   ]
  },
  {
   "cell_type": "code",
   "execution_count": 31,
   "metadata": {},
   "outputs": [
    {
     "name": "stdout",
     "output_type": "stream",
     "text": [
      "Species can be printed to showtheir string representation: m1_A_attribute m1_B m2_B D\n",
      "\n",
      "Reactions can be printed as well:\n",
      " m1[A(attribute)] <--> 2m1[B] \n",
      " m1[B] --> m2[B]+D\n",
      "\n",
      "Directly printing a CRN shows the stringrepresentation of the species used in BioCRNpyler:\n",
      "Species = m1_A_attribute, m1_B, m2_B, D\n",
      "Reactions = [\n",
      "\tm1[A(attribute)] <--> 2m1[B]\n",
      "\tm1[B] --> m2[B]+D\n",
      "]\n",
      "\n",
      "CRN.pretty_print(...) is a function that printsa more customizable version of the CRN, but doesn'tshow the proper string representation of species.\n",
      "Species(N = 4) = {\n",
      "m1[A(attribute)] (@ 10),  D (@ 0),  m2[B] (@ 0),  m1[B] (@ 0),  \n",
      "}\n",
      "\n",
      "Reactions (2) = [\n",
      "0. m1[A(attribute)] <--> 2m1[B]\n",
      " Kf=k_forward * m1_A_attribute\n",
      " Kr=k_reverse * m1_B^2\n",
      "  k_forward=3.0\n",
      "  k_reverse=0.9\n",
      "\n",
      "1. m1[B] --> m2[B]+D\n",
      " Kf=k_forward * m1_B\n",
      "  k_forward=1.4\n",
      "\n",
      "]\n"
     ]
    }
   ],
   "source": [
    "#Example: Model the CRN consisting of: A --> 2B, \n",
    "# 2B <--> B + C where C has the same name as B but a new material\n",
    "A = Species(\"A\", material_type = \"m1\", \n",
    "            attributes = [\"attribute\"])\n",
    "B = Species(\"B\", material_type = \"m1\")\n",
    "C = Species(\"B\", material_type = \"m2\")\n",
    "D = Species(\"D\")\n",
    "\n",
    "print(\"Species can be printed to show\"\\\n",
    "      \"their string representation:\", A, B, C, D)\n",
    "\n",
    "#Reaction Rates\n",
    "k1 = 3.\n",
    "k2 = 1.4\n",
    "k2rev = 0.15\n",
    "\n",
    "#Reaciton Objects\n",
    "R1 = Reaction.from_massaction([A], [B, B], k_forward = k1, k_reverse = 0.9)\n",
    "R2 = Reaction.from_massaction([B], [C, D], k_forward = k2)\n",
    "\n",
    "print(\"\\nReactions can be printed as well:\\n\", R1,\"\\n\", R2)\n",
    "\n",
    "#create an initial condition so A has a non-zero value\n",
    "initial_concentration_dict = {A:10}\n",
    "\n",
    "#Make a CRN\n",
    "CRN = ChemicalReactionNetwork(species = [A, B, C, D], \n",
    "                              reactions = [R1, R2], \n",
    "                              initial_concentration_dict = \n",
    "                              initial_concentration_dict)\n",
    "\n",
    "#CRNs can be printed in two different ways\n",
    "print(\"\\nDirectly printing a CRN shows the string\"\\\n",
    "        \"representation of the species used in BioCRNpyler:\")\n",
    "print(CRN)\n",
    "\n",
    "print(\"\\nCRN.pretty_print(...) is a function that prints\"\\\n",
    "      \"a more customizable version of the CRN, but doesn't\"\\\n",
    "      \"show the proper string representation of species.\")\n",
    "print(CRN.pretty_print(show_materials = True, \n",
    "                       show_rates = True, show_attributes = True))"
   ]
  },
  {
   "cell_type": "markdown",
   "metadata": {},
   "source": [
    "### CRNs can be saved as SBML and simulated\n",
    "\n",
    "To save a CRN as SBML:\n",
    "\n",
    "    CRN.write_sbml_file(\"file_name.xml\")\n",
    "\n",
    "To simulate a CRN with biosrape:\n",
    "\n",
    "    Results, Model = CRN_expression.simulate_with_bioscrape(timepoints, initial_condition_dict = x0)\n",
    "\n",
    "Where x0 is a dictionary: x0 = {species_name:initial_value}"
   ]
  },
  {
   "cell_type": "code",
   "execution_count": 32,
   "metadata": {},
   "outputs": [],
   "source": [
    "# To simulate the CRN, install Bioscrape, a Python-based simulator\n",
    "# Uncomment the following line to install Bioscrape\n",
    "# !pip install bioscrape"
   ]
  },
  {
   "cell_type": "code",
   "execution_count": 33,
   "metadata": {},
   "outputs": [
    {
     "data": {
      "image/png": "[encoded data removed]",
      "text/plain": [
       "<Figure size 432x288 with 1 Axes>"
      ]
     },
     "metadata": {
      "needs_background": "light"
     },
     "output_type": "display_data"
    }
   ],
   "source": [
    "#Saving and simulating a CRN\n",
    "CRN.write_sbml_file(\"build_crns_directly.xml\")\n",
    "\n",
    "\n",
    "try:\n",
    "    import bioscrape\n",
    "    import numpy as np\n",
    "    import pylab as plt\n",
    "    import pandas as pd\n",
    "    \n",
    "    #Initial conditions can be set with a dictionary:\n",
    "    x0 = {A:120}\n",
    "    #Timepoints to simulate over\n",
    "    timepoints = np.linspace(0, 1, 100)\n",
    "    \n",
    "    #This function can also take a filename keyword to \n",
    "    # save the file at the same time\n",
    "    R = CRN.simulate_with_bioscrape_via_sbml(timepoints = timepoints, \n",
    "                                             initial_condition_dict = x0)\n",
    "\n",
    "    #Check to ensure simulation worked\n",
    "    #Results are in a Pandas Dictionary and can be accessed \n",
    "    # via string-names of species\n",
    "    plt.plot(R['time'], R[str(A)], label = \"A\")\n",
    "    plt.plot(R['time'], R[str(B)], label = \"B\")\n",
    "    plt.plot(R['time'], R[str(C)], \"--\", label = \"C\")\n",
    "    plt.plot(R['time'], R[str(D)],\":\", label = \"D\")\n",
    "    plt.xlabel('Time')\n",
    "    plt.ylabel('Species')\n",
    "    plt.legend()\n",
    "    \n",
    "except ModuleNotFoundError:\n",
    "    print(\"Plotting Modules not installed.\")"
   ]
  },
  {
   "cell_type": "markdown",
   "metadata": {},
   "source": [
    "## Hill Functions with BioCRNpyler"
   ]
  },
  {
   "cell_type": "markdown",
   "metadata": {},
   "source": [
    "### HillPositive: \n",
    "$\\rho(s) = k \\frac{s_1^n}{K^n+s_1^n}$\n",
    "\n",
    "Requried parameters: rate constant \"k\", offset \"K\", hill coefficient \"n\", hill species \"s1\"."
   ]
  },
  {
   "cell_type": "code",
   "execution_count": 20,
   "metadata": {},
   "outputs": [
    {
     "name": "stdout",
     "output_type": "stream",
     "text": [
      "m1[A(attribute)] --> m1[B]\n",
      " Kf = k R^n / ( K^n + R^n )\n",
      "  k=1\n",
      "  K=5\n",
      "  n=2\n",
      "\n"
     ]
    }
   ],
   "source": [
    "#create the propensity\n",
    "R = Species(\"R\")\n",
    "hill_pos  = HillPositive(k=1, s1=R, K=5, n=2)\n",
    "\n",
    "#create the reaction\n",
    "r_hill_pos = Reaction([A], [B], propensity_type = hill_pos)\n",
    "\n",
    "#print the reaction\n",
    "print(r_hill_pos.pretty_print())"
   ]
  },
  {
   "cell_type": "markdown",
   "metadata": {},
   "source": [
    "### HillNegative: \n",
    "$\\rho(s) = k \\frac{1}{K^n+s_1^n}$\n",
    "\n",
    "Requried parameters: rate constant \"k\", offset \"K\", hill coefficient \"n\", hill species \"s1\"."
   ]
  },
  {
   "cell_type": "code",
   "execution_count": 21,
   "metadata": {},
   "outputs": [
    {
     "name": "stdout",
     "output_type": "stream",
     "text": [
      "m1[A(attribute)] --> m1[B]\n",
      " Kf = k R^n / ( K^n + R^n )\n",
      "  k=1\n",
      "  K=5\n",
      "  n=2\n",
      "\n"
     ]
    }
   ],
   "source": [
    "#create the propensity\n",
    "R = Species(\"R\")\n",
    "hill_neg  = HillPositive(k=1, s1=R, K=5, n=2)\n",
    "\n",
    "#create the reaction\n",
    "r_hill_neg = Reaction([A], [B], propensity_type = hill_neg)\n",
    "\n",
    "#print the reaction\n",
    "print(r_hill_neg.pretty_print())"
   ]
  },
  {
   "cell_type": "markdown",
   "metadata": {},
   "source": [
    "### ProportionalHillPositive: \n",
    "$\\rho(s, d) = k d \\frac{s_1^n}{K^n + s_1^n}$\n",
    "\n",
    "Requried parameters: rate constant \"k\", offset \"K\", hill coefficient \"n\", hill species \"s1\", proportional species \"d\""
   ]
  },
  {
   "cell_type": "code",
   "execution_count": 22,
   "metadata": {},
   "outputs": [
    {
     "name": "stdout",
     "output_type": "stream",
     "text": [
      "m1[A(attribute)] --> m1[B]\n",
      " Kf = k D R^n / ( K^n + R^n )\n",
      "  k=1\n",
      "  K=5\n",
      "  n=2\n",
      "\n"
     ]
    }
   ],
   "source": [
    "#create the propensity\n",
    "R = Species(\"R\")\n",
    "D = Species(\"D\")\n",
    "prop_hill_pos  = ProportionalHillPositive(k=1, s1=R, K=5, n=2, d = D)\n",
    "\n",
    "#create the reaction\n",
    "r_prop_hill_pos = Reaction([A], [B], propensity_type = prop_hill_pos)\n",
    "\n",
    "#print the reaction\n",
    "print(r_prop_hill_pos.pretty_print())"
   ]
  },
  {
   "cell_type": "markdown",
   "metadata": {},
   "source": [
    "### ProportionalHillNegative: \n",
    "$\\rho(s, d) = k d \\frac{1}{K^n + s_1^n}$\n",
    "\n",
    "Requried parameters: rate constant \"k\", offset \"K\", hill coefficient \"n\", hill species \"s1\", proportional species \"d\""
   ]
  },
  {
   "cell_type": "code",
   "execution_count": 24,
   "metadata": {},
   "outputs": [
    {
     "name": "stdout",
     "output_type": "stream",
     "text": [
      "m1[A(attribute)] --> m1[B]\n",
      " Kf = k D / ( 1 + (R/K)^2 )\n",
      "  k=1\n",
      "  K=5\n",
      "  n=2\n",
      "\n"
     ]
    }
   ],
   "source": [
    "#create the propensity\n",
    "R = Species(\"R\")\n",
    "D = Species(\"D\")\n",
    "prop_hill_neg  = ProportionalHillNegative(k=1, s1=R, K=5, n=2, d = D)\n",
    "\n",
    "#create the reaction\n",
    "r_prop_hill_neg = Reaction([A], [B], propensity_type = prop_hill_neg)\n",
    "\n",
    "#print the reaction\n",
    "print(r_prop_hill_neg.pretty_print())"
   ]
  },
  {
   "cell_type": "markdown",
   "metadata": {},
   "source": [
    "### General Propensity: \n",
    "$\\rho(s) = $ function of your choice\n",
    "\n",
    "For general propensities, the function must be written out as a string with all species and parameters declared."
   ]
  },
  {
   "cell_type": "code",
   "execution_count": 26,
   "metadata": {},
   "outputs": [
    {
     "name": "stdout",
     "output_type": "stream",
     "text": [
      "m1[A(attribute)]+m1[B] --> \n",
      "k1*2 - k2/S^2\n",
      "  k1=1.11\n",
      "  k2=2.22\n",
      "\n"
     ]
    }
   ],
   "source": [
    "#create species\n",
    "# create some parameters - note that parameters will be discussed in the next lecture\n",
    "k1 = ParameterEntry(\"k1\", 1.11)\n",
    "k2 = ParameterEntry(\"k2\", 2.22)\n",
    "S = Species(\"S\")\n",
    "\n",
    "#type the string as a rate then declare teh species and parameters\n",
    "general = GeneralPropensity(f'k1*2 - k2/{S}^2', propensity_species=[S], propensity_parameters=[k1, k2])\n",
    "\n",
    "r_general = Reaction([A, B], [], propensity_type = general)\n",
    "\n",
    "print(r_general.pretty_print())"
   ]
  },
  {
   "cell_type": "markdown",
   "metadata": {},
   "source": [
    "## Next week:\n",
    "\n",
    "### 1. Compiling CRNs with Enzymes Catalysis and Binding\n",
    "### 2. DNA Assemblies gene expression transcription and translation\n",
    "### 3. Promoters Transcriptional Regulation and Gene Regulatory Networks\n",
    "### 4. Simulating and Analyzing SBML models "
   ]
  }
 ],
 "metadata": {
  "kernelspec": {
   "display_name": "Python 3",
   "language": "python",
   "name": "python3"
  },
  "language_info": {
   "codemirror_mode": {
    "name": "ipython",
    "version": 3
   },
   "file_extension": ".py",
   "mimetype": "text/x-python",
   "name": "python",
   "nbconvert_exporter": "python",
   "pygments_lexer": "ipython3",
   "version": "3.7.3"
  }
 },
 "nbformat": 4,
 "nbformat_minor": 2
}
