{
 "cells": [
  {
   "cell_type": "markdown",
   "metadata": {},
   "source": [
    "# Week 3 of Introduction to Biological System Design\n",
    "## Introduction to Modeling Biological Processes\n",
    "### Ayush Pandey\n",
    "\n",
    "Pre-requisite: If you have installed numpy, scipy, matplotlib, and pandas already, then you are all set to run this notebook.\n",
    "\n",
    "This notebook introduces modeling of biological processes using differential equations. Note that to model the growth of any variable $x$, we can write a differential equation:\n",
    "\n",
    "$\\frac{dx}{dt} = f(x,t)$\n",
    "\n",
    "where the function $f(x,t)$ models the rate of change of the variable $x$. In this notebook, we will use this formalism of modeling systems (deterministic ordinary differential equations) to study transcription and translation."
   ]
  },
  {
   "cell_type": "markdown",
   "metadata": {},
   "source": [
    "# ODE Modeling with Python\n",
    "## Introduction to `scipy.integrate`\n",
    "\n",
    "For Homework 2, you implemented your own numerical integrator by using a form of backward difference method to compute the derivative. This method is often referred to as the Euler's method to integrate differential equations. The scientific computing workhorse of the Python language `Scipy` consists of various integration algorithms. One of the best method in the `scipy.integrate` module is called `odeint`. We will use `odeint` in this notebook and throughout the course quite often to integrate ODE models. \n",
    "\n",
    "You can look at the `odeint` documentation here: https://docs.scipy.org/doc/scipy/reference/generated/scipy.integrate.odeint.html\n",
    "\n",
    "\n",
    "Let us learn how to use `odeint` by simulating a simple birth and death model:"
   ]
  },
  {
   "cell_type": "markdown",
   "metadata": {},
   "source": [
    "### Growth and death model\n",
    "\n",
    "Let us assume that a species $x$ grows at the rate $k$ and dies at a rate of $d$. We can write a one-variable ODE model for this species:\n",
    "\n",
    "$\\frac{dx}{dt} = k - d\\cdot x$\n",
    "\n",
    "To simulate this model, we can integrate this ODE over a set of time points and plot the result as $x(t)$ vs $t$ on a graph. \n",
    "\n",
    "Define the ODE as a Python function. We can use the `*args` argument to pass multiple parameters to our ODE. Inside the function, we can unfold args to get out the parameter values from it. The function defines the ODE by defining the right hand side of the differential equation. Recall that we used similar function definitions to integrate using our crude numerical integrator. "
   ]
  },
  {
   "cell_type": "code",
   "execution_count": 78,
   "metadata": {},
   "outputs": [],
   "source": [
    "def growth_death_ode(x, t, *args):\n",
    "    k, d = args\n",
    "    return k - d*x\n",
    "\n",
    "from scipy.integrate import odeint\n",
    "import numpy as np\n",
    "# It is often helpful to use Python functions with keyword arguments, so we know \n",
    "# the meanings of the arguments that are passed. This is helpful in easy debugging, as well as in documenting the \n",
    "# code better.\n",
    "k = 1.0\n",
    "d = 0.1\n",
    "initial_values = np.array([0])\n",
    "timepoints = np.linspace(0,50,100)\n",
    "solution = odeint(func = growth_death_ode, y0 = initial_values, t = timepoints, \n",
    "                  args = (k, d))"
   ]
  },
  {
   "cell_type": "markdown",
   "metadata": {},
   "source": [
    "### Take a look at what odeint returns by running the next cell \n",
    "(uncomment to run)"
   ]
  },
  {
   "cell_type": "code",
   "execution_count": 79,
   "metadata": {},
   "outputs": [],
   "source": [
    "# solution"
   ]
  },
  {
   "cell_type": "markdown",
   "metadata": {},
   "source": [
    "### Plot the simulated ODE with time:"
   ]
  },
  {
   "cell_type": "code",
   "execution_count": 80,
   "metadata": {},
   "outputs": [
    {
     "data": {
      "image/png": "[encoded data removed]",
      "text/plain": [
       "<Figure size 432x288 with 1 Axes>"
      ]
     },
     "metadata": {
      "needs_background": "light"
     },
     "output_type": "display_data"
    }
   ],
   "source": [
    "import matplotlib.pyplot as plt\n",
    "fig, ax = plt.subplots()\n",
    "ax.plot(timepoints, solution, lw = 3)\n",
    "ax.set_xlabel('$t$', fontsize = 18)\n",
    "ax.set_ylabel('$x(t)$', fontsize = 18)\n",
    "ax.tick_params(labelsize = 14)"
   ]
  },
  {
   "cell_type": "markdown",
   "metadata": {},
   "source": [
    "You can compare odeint performance with your numerical integrator by running both simultaneously."
   ]
  },
  {
   "cell_type": "markdown",
   "metadata": {},
   "source": [
    "## Validate `odeint` simulation with analytical solution\n",
    "\n",
    "Since the birth-death model that we considered is a simple equation that can be integrated analytically, we can validate the numerical ODE simulation by comparing it to our analytical solution. Note that analytically solving an ODE is not possible for all kinds of ODEs, especially, as write more complicated models it may not be possible to obtain a closed form solution.\n",
    "\n",
    "For the model above, the analytical solution is given by:\n",
    "\n",
    "$ x(t) = \\frac{k}{d}(1 - e^{-d(t - t_0)}) - x(0)e^{-d(t - t_0)}$\n",
    "\n",
    "Let us plot this analytical solution alongside the numerical simulation:"
   ]
  },
  {
   "cell_type": "code",
   "execution_count": 101,
   "metadata": {},
   "outputs": [
    {
     "data": {
      "image/png": "[encoded data removed]",
      "text/plain": [
       "<Figure size 432x288 with 1 Axes>"
      ]
     },
     "metadata": {
      "needs_background": "light"
     },
     "output_type": "display_data"
    }
   ],
   "source": [
    "def analytical_solution(t, k, d, t0, x0):\n",
    "    return (k/d)*(1 - np.exp(-d*(t - t0))) - x0*np.exp(-d*(t - t0))\n",
    "\n",
    "x0 = initial_values\n",
    "t0 = timepoints[0]\n",
    "fig, ax = plt.subplots()\n",
    "ax.plot(timepoints, solution, lw = 3, label = 'numerical', alpha = 0.9)\n",
    "ax.scatter(timepoints, analytical_solution(timepoints, k, d, t0, x0), c = 'r', \n",
    "           marker = 'x', label = 'analytical')\n",
    "ax.set_xlabel('$t$', fontsize = 18)\n",
    "ax.set_ylabel('$x(t)$', fontsize = 18)\n",
    "ax.legend(fontsize = 14)\n",
    "ax.tick_params(labelsize = 14)"
   ]
  },
  {
   "cell_type": "markdown",
   "metadata": {},
   "source": [
    "`odeint` has various options that you can explore in the documentation. For example, you can use the `rtol` and the `atol` option to set the tolerance levels of the integration algorithm. The tolerance levels decide the accuracy of the solution => lower the tolerance for error, more accurate the simulation, but also it is slower. So you have a speed-accuracy tradeoff. You can also take a look at the `infodict` that is returned when you pass in `full_output = True`. The `infodict` dictionary consists of information about the solver and the steps it took. Finally, an advanced version of `odeint` is `solve_ivp` which has multiple algorithms to integrate ODEs. However, the disadvantage is that it has slightly higher overhead and needs to be setup correctly inorder to get reliable simulations for ill-conditioned differential equations."
   ]
  },
  {
   "cell_type": "code",
   "execution_count": null,
   "metadata": {},
   "outputs": [],
   "source": [
    "    "
   ]
  }
 ],
 "metadata": {
  "kernelspec": {
   "display_name": "Python 3",
   "language": "python",
   "name": "python3"
  },
  "language_info": {
   "codemirror_mode": {
    "name": "ipython",
    "version": 3
   },
   "file_extension": ".py",
   "mimetype": "text/x-python",
   "name": "python",
   "nbconvert_exporter": "python",
   "pygments_lexer": "ipython3",
   "version": "3.7.3"
  }
 },
 "nbformat": 4,
 "nbformat_minor": 2
}
