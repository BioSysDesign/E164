{
 "cells": [
  {
   "cell_type": "markdown",
   "metadata": {},
   "source": [
    "# Automated Model Reduction with AutoReduce\n",
    "\n",
    "Assumptions such as quasi-steady state approximation (QSSA) and conservation laws are common in modeling of biological systems. [AutoReduce](https://github.com/ayush9pandey/autoReduce) is a Python package that can perform model reduction using QSSA and conservation laws on given SBML models. In addition to model reduction, AutoReduce can also perform sensitivity analysis and deterministic simulations for SBML models. \n",
    "\n",
    "This notebook gives a short introduction to AutoReduce by importing an SBML model and performing model reduction on the given model. "
   ]
  },
  {
   "cell_type": "markdown",
   "metadata": {},
   "source": [
    "# Detailed Chemical Reaction Network (CRN):\n",
    "\n",
    "We have the SBML file called \"gene_expression.xml\" which models the expression of two genes according to the following reactions:\n",
    "\n",
    "Transcription:\n",
    "\n",
    "$ DNA + RNAP \\leftrightharpoons C_1 $\n",
    "\n",
    "$ C_1 \\rightarrow mRNA + DNA + RNAP $\n",
    "\n",
    "Translation: \n",
    "\n",
    "$ mRNA + Ribosome \\leftrightharpoons C_2 $\n",
    "\n",
    "$C_2 \\rightarrow Protein + mRNA + Ribosome $\n",
    "\n",
    "Degradation:\n",
    "\n",
    "$ mRNA + RNAase \\leftrightharpoons C_3 $\n",
    "\n",
    "$ C_3 \\rightarrow RNAase $\n",
    "\n",
    "$ Protein \\rightarrow \\varnothing $\n",
    "\n",
    "$ mRNA \\rightarrow \\varnothing $\n",
    "\n",
    "The SBML file may be generated using any SBML model builder tool such as BioCRNpyler, COPASI, iBioSim, or others. We load this SBML file in AutoReduce and apply model reduction techniques:\n"
   ]
  },
  {
   "cell_type": "markdown",
   "metadata": {},
   "source": [
    "# Package Installation \n",
    "\n",
    "If you do not have AutoReduce installed in your environment, uncomment the following line to install:"
   ]
  },
  {
   "cell_type": "code",
   "execution_count": 2,
   "metadata": {},
   "outputs": [],
   "source": [
    "# !pip install autoreduce"
   ]
  },
  {
   "cell_type": "markdown",
   "metadata": {},
   "source": [
    "## Check if it worked by importing the packages:"
   ]
  },
  {
   "cell_type": "code",
   "execution_count": 6,
   "metadata": {},
   "outputs": [],
   "source": [
    "from autoreduce import *\n",
    "import numpy as np\n",
    "from sympy import symbols"
   ]
  },
  {
   "cell_type": "markdown",
   "metadata": {},
   "source": [
    "# Load SBML in AutoReduce:"
   ]
  },
  {
   "cell_type": "code",
   "execution_count": 7,
   "metadata": {},
   "outputs": [],
   "source": [
    "from autoreduce.converters import load_sbml\n",
    "sys = load_sbml('gene_expression.xml', outputs = ['protein_X'])"
   ]
  },
  {
   "cell_type": "markdown",
   "metadata": {},
   "source": [
    "## Explore the System object\n",
    "\n",
    "AutoReduce stores models using the following syntax for each model:\n",
    "\n",
    "$ \\dot{x} = f(x, params)$ \n",
    "\n",
    "$ y = Cx$ (if linear)\n",
    "\n",
    "or \n",
    "\n",
    "$ y = h(x, params)$\n",
    "\n",
    "Here, $x$ are the state variables of the model (the list of species, if the model is a CRN), the params are the list of parameters (the reaction rates, if the model is a CRN). The outputs $y$ are the measured variables of the system."
   ]
  },
  {
   "cell_type": "code",
   "execution_count": 8,
   "metadata": {},
   "outputs": [
    {
     "data": {
      "text/plain": [
       "[dna_X,\n",
       " protein_RNAP_machinery,\n",
       " rna_X,\n",
       " complex_dna_X_protein_RNAP_machinery_,\n",
       " protein_Ribo_machinery,\n",
       " protein_X,\n",
       " complex_protein_Ribo_machinery_rna_X_,\n",
       " protein_RNAase_machinery,\n",
       " dna_cellular_processes,\n",
       " rna_cellular_processes,\n",
       " complex_dna_cellular_processes_protein_RNAP_machinery_,\n",
       " protein_cellular_processes,\n",
       " complex_protein_Ribo_machinery_rna_cellular_processes_,\n",
       " complex_protein_RNAase_machinery_rna_X_,\n",
       " complex_complex_protein_Ribo_machinery_rna_X__protein_RNAase_machinery_,\n",
       " complex_protein_RNAase_machinery_rna_cellular_processes_,\n",
       " complex_complex_protein_Ribo_machinery_rna_cellular_processes__protein_RNAase_machinery_]"
      ]
     },
     "execution_count": 8,
     "metadata": {},
     "output_type": "execute_result"
    }
   ],
   "source": [
    "sys.x"
   ]
  },
  {
   "cell_type": "code",
   "execution_count": 9,
   "metadata": {},
   "outputs": [
    {
     "data": {
      "text/plain": [
       "[kb__,\n",
       " ku_strong_,\n",
       " ktx_strong_,\n",
       " ku_weak_,\n",
       " ktl__,\n",
       " kb__transcription,\n",
       " ku__transcription,\n",
       " ktx__transcription,\n",
       " kb__translation,\n",
       " ku__translation,\n",
       " ktl__translation,\n",
       " ku__,\n",
       " kdeg__rna_degredation_mm,\n",
       " kdil__]"
      ]
     },
     "execution_count": 9,
     "metadata": {},
     "output_type": "execute_result"
    }
   ],
   "source": [
    "# sys.f\n",
    "sys.params"
   ]
  },
  {
   "cell_type": "code",
   "execution_count": 10,
   "metadata": {},
   "outputs": [
    {
     "data": {
      "text/plain": [
       "[0.0,\n",
       " 0.0,\n",
       " 0.0,\n",
       " 0.0,\n",
       " 0.0,\n",
       " 0.0,\n",
       " 0.0,\n",
       " 0.0,\n",
       " 0.0,\n",
       " 0.0,\n",
       " 0.0,\n",
       " 0.0,\n",
       " 0.0,\n",
       " 0.0,\n",
       " 0.0,\n",
       " 0.0,\n",
       " 0.0]"
      ]
     },
     "execution_count": 10,
     "metadata": {},
     "output_type": "execute_result"
    }
   ],
   "source": [
    "sys.x_init"
   ]
  },
  {
   "cell_type": "code",
   "execution_count": 11,
   "metadata": {},
   "outputs": [
    {
     "data": {
      "text/plain": [
       "array([[0., 0., 0., 0., 0., 1., 0., 0., 0., 0., 0., 0., 0., 0., 0., 0.,\n",
       "        0.]])"
      ]
     },
     "execution_count": 11,
     "metadata": {},
     "output_type": "execute_result"
    }
   ],
   "source": [
    "sys.C"
   ]
  },
  {
   "cell_type": "markdown",
   "metadata": {},
   "source": [
    "# Set up model reduction:"
   ]
  },
  {
   "cell_type": "code",
   "execution_count": 13,
   "metadata": {},
   "outputs": [],
   "source": [
    "from autoreduce.utils import get_reducible\n",
    "sys_reduce = get_reducible(sys)\n",
    "sys_reduce.nstates_tol_min = 3 # Minimum number of states tbat you want in the reduced model"
   ]
  },
  {
   "cell_type": "markdown",
   "metadata": {},
   "source": [
    "## Conservation Laws"
   ]
  },
  {
   "cell_type": "code",
   "execution_count": 14,
   "metadata": {},
   "outputs": [
    {
     "ename": "ValueError",
     "evalue": "too many values to unpack (expected 9)",
     "output_type": "error",
     "traceback": [
      "\u001b[1;31m---------------------------------------------------------------------------\u001b[0m",
      "\u001b[1;31mValueError\u001b[0m                                Traceback (most recent call last)",
      "\u001b[1;32m<ipython-input-14-fc9563c167f0>\u001b[0m in \u001b[0;36m<module>\u001b[1;34m\u001b[0m\n\u001b[1;32m----> 1\u001b[1;33m \u001b[0mG\u001b[0m\u001b[1;33m,\u001b[0m \u001b[0mP\u001b[0m\u001b[1;33m,\u001b[0m \u001b[0mC1\u001b[0m\u001b[1;33m,\u001b[0m \u001b[0mT\u001b[0m\u001b[1;33m,\u001b[0m \u001b[0mR\u001b[0m\u001b[1;33m,\u001b[0m \u001b[0mC2\u001b[0m\u001b[1;33m,\u001b[0m \u001b[0mE\u001b[0m\u001b[1;33m,\u001b[0m \u001b[0mC3\u001b[0m\u001b[1;33m,\u001b[0m \u001b[0mX\u001b[0m \u001b[1;33m=\u001b[0m \u001b[0msys\u001b[0m\u001b[1;33m.\u001b[0m\u001b[0mx\u001b[0m\u001b[1;33m\u001b[0m\u001b[1;33m\u001b[0m\u001b[0m\n\u001b[0m\u001b[0;32m      2\u001b[0m \u001b[0mconserved_quantities\u001b[0m \u001b[1;33m=\u001b[0m \u001b[1;33m[\u001b[0m\u001b[0mP\u001b[0m \u001b[1;33m+\u001b[0m \u001b[0mC1\u001b[0m \u001b[1;33m-\u001b[0m \u001b[0mP_tot\u001b[0m\u001b[1;33m,\u001b[0m \u001b[0mR\u001b[0m \u001b[1;33m+\u001b[0m \u001b[0mC2\u001b[0m \u001b[1;33m-\u001b[0m \u001b[0mR_tot\u001b[0m\u001b[1;33m,\u001b[0m \u001b[0mE\u001b[0m \u001b[1;33m+\u001b[0m \u001b[0mC3\u001b[0m \u001b[1;33m-\u001b[0m \u001b[0mE_tot\u001b[0m\u001b[1;33m]\u001b[0m\u001b[1;33m\u001b[0m\u001b[1;33m\u001b[0m\u001b[0m\n\u001b[0;32m      3\u001b[0m \u001b[0mstates_to_eliminate\u001b[0m \u001b[1;33m=\u001b[0m \u001b[1;33m[\u001b[0m\u001b[1;36m1\u001b[0m\u001b[1;33m,\u001b[0m\u001b[1;36m4\u001b[0m\u001b[1;33m,\u001b[0m\u001b[1;36m6\u001b[0m\u001b[1;33m]\u001b[0m\u001b[1;33m\u001b[0m\u001b[1;33m\u001b[0m\u001b[0m\n\u001b[0;32m      4\u001b[0m \u001b[0mf_cons\u001b[0m \u001b[1;33m=\u001b[0m \u001b[0msys_reduce\u001b[0m\u001b[1;33m.\u001b[0m\u001b[0mset_conservation_laws\u001b[0m\u001b[1;33m(\u001b[0m\u001b[0mconserved_quantities\u001b[0m\u001b[1;33m,\u001b[0m \u001b[0mstates_to_eliminate\u001b[0m\u001b[1;33m)\u001b[0m\u001b[1;33m\u001b[0m\u001b[1;33m\u001b[0m\u001b[0m\n",
      "\u001b[1;31mValueError\u001b[0m: too many values to unpack (expected 9)"
     ]
    }
   ],
   "source": [
    "G, P, C1, T, R, C2, E, C3, X = sys.x\n",
    "conserved_quantities = [P + C1 - P_tot, R + C2 - R_tot, E + C3 - E_tot]\n",
    "states_to_eliminate = [1,4,6]\n",
    "f_cons = sys_reduce.set_conservation_laws(conserved_quantities, states_to_eliminate)"
   ]
  },
  {
   "cell_type": "code",
   "execution_count": null,
   "metadata": {},
   "outputs": [],
   "source": []
  }
 ],
 "metadata": {
  "kernelspec": {
   "display_name": "Python 3",
   "language": "python",
   "name": "python3"
  },
  "language_info": {
   "codemirror_mode": {
    "name": "ipython",
    "version": 3
   },
   "file_extension": ".py",
   "mimetype": "text/x-python",
   "name": "python",
   "nbconvert_exporter": "python",
   "pygments_lexer": "ipython3",
   "version": "3.7.3"
  }
 },
 "nbformat": 4,
 "nbformat_minor": 2
}
