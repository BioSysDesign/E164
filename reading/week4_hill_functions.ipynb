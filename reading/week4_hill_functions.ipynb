{
 "cells": [
  {
   "cell_type": "markdown",
   "metadata": {},
   "source": [
    "# Week 4 of Introduction to Biological System Design\n",
    "## Introduction to Hill Functions\n",
    "### Ayush Pandey\n",
    "\n",
    "Pre-requisite: To get the best out of this notebook, make sure that you have the basic understanding of ordinary differential equations. For more information on ODEs you may refer to any standard book on engineering math. To learn more about how to numerically simulate ODEs, refer to [week3_intro_ode.ipynb](https://pages.hmc.edu/pandey/reading/week3_intro_ode.ipynb)\n",
    "\n",
    "Throughout this notebook, we refer to an ODE with the following equation:\n",
    "\n",
    "$\\frac{dx}{dt} = f(x,t)$\n",
    "\n",
    "where the function $f(x,t)$ models the rate of change of the variable $x$ with time $t$. A Hill function is a particular kind of nonliner function that can be used to write ODE models for gene regulation in biological systems. In this notebook, we discuss some of the common kinds of Hill functions and their parametrizations.  "
   ]
  },
  {
   "cell_type": "code",
   "execution_count": null,
   "metadata": {},
   "outputs": [],
   "source": []
  }
 ],
 "metadata": {
  "kernelspec": {
   "display_name": "Python 3",
   "language": "python",
   "name": "python3"
  },
  "language_info": {
   "codemirror_mode": {
    "name": "ipython",
    "version": 3
   },
   "file_extension": ".py",
   "mimetype": "text/x-python",
   "name": "python",
   "nbconvert_exporter": "python",
   "pygments_lexer": "ipython3",
   "version": "3.7.3"
  }
 },
 "nbformat": 4,
 "nbformat_minor": 2
}
