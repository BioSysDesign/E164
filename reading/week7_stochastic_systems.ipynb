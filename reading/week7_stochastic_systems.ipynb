{
 "cells": [
  {
   "cell_type": "markdown",
   "metadata": {},
   "source": [
    "# Week 7 of Introduction to Biological System Design\n",
    "## Stochastic Systems and Simulations\n",
    "### Ayush Pandey\n",
    "\n",
    "Pre-requisite: To get the best out of this notebook, make sure that you have the basic understanding of probability distributions. For more information on probability theory you may refer to any standard book on engineering math. The notebook uses ODE models to evaluate stochasticity effects as well. You can learn more about how to numerically simulate ODEs deterministically from the [week3_intro_ode.ipynb](https://pages.hmc.edu/pandey/reading/week3_intro_ode.ipynb) notebook. Further, it is also assumed that you have a working knowledge of gene expression processes, use of Hill functions for gene regulation, and biological system motifs. Computational examples with Hill functions are discussed in [week4_hill_functions.ipynb](https://pages.hmc.edu/pandey/reading/week4_hill_functions.ipynb) whereas design choices underlying biological motifs are shown in [week6_system_analysis.ipynb](https://pages.hmc.edu/pandey/reading/week6_system_analysis.ipynb).\n",
    "\n",
    "This notebook presents biological design choices by use of numerical simulations, mathematical models, and response times of biological systems.\n",
    "\n",
    "Disclaimer: Content in this notebook is inspired by the fabulous [compuatational notebook](https://colab.research.google.com/github/justinbois/biological-circuit-design-colab/blob/master/chapters/03_small_circuits.ipynb) by Justin Bois and Michael Elowitz on Biological Circuit Design."
   ]
  }
 ],
 "metadata": {
  "kernelspec": {
   "display_name": "Python 3",
   "language": "python",
   "name": "python3"
  },
  "language_info": {
   "codemirror_mode": {
    "name": "ipython",
    "version": 3
   },
   "file_extension": ".py",
   "mimetype": "text/x-python",
   "name": "python",
   "nbconvert_exporter": "python",
   "pygments_lexer": "ipython3",
   "version": "3.7.3"
  }
 },
 "nbformat": 4,
 "nbformat_minor": 2
}
