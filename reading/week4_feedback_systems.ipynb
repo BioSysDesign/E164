{
 "cells": [
  {
   "cell_type": "markdown",
   "metadata": {},
   "source": [
    "# Week 4 of Introduction to Biological System Design\n",
    "## Introduction to Feedback Systems\n",
    "### Ayush Pandey\n",
    "\n",
    "Pre-requisite: To get the best out of this notebook, make sure that you have the basic understanding of ordinary differential equations. For more information on ODEs you may refer to any standard book on engineering math. To learn more about how to numerically simulate ODEs, refer to [week3_intro_ode.ipynb](https://pages.hmc.edu/pandey/reading/week3_intro_ode.ipynb)\n",
    "\n",
    "# Problem Setup\n",
    "Throughout this notebook, we refer to a system model with the following equations:\n",
    "\n",
    "$\\frac{dx}{dt} = f(x,u,t)\\\\\n",
    "y = h(x,u,t)$\n",
    "\n",
    "where the function $f(x,u,t)$ models the progression of states $x$ under inputs $u$ and the output of the system is given by $y$, modeled using a nonlinear function $h$. We make certain smoothness assumptions on this nonlinear system description as we discuss numerical analysis tools. For more information on the smoothness assumptions, please refer to a standard text on nonlinear dynamics (for example: Nonlinear Systems by Hassan Khalil). In this notebook, we discuss the basics of feedback systems and employ numerical simulations to elucidate the key properties of feedback.\n",
    "\n",
    "\n",
    "### Principle of Feedback\n",
    "Use of feedback is extensive in all engineered and natural systems. The basic idea behind a feedback system is to sense the performance of the system and actuate it so that the observed performance is close to the desired performance. Use of feedback has been shown to vastly improve performance of systems, ranging from an operational amplifier in electronic circuits to homeostasis in biological systems. Some key properties of feedback are:\n",
    "\n",
    "### Feedback Properties\n",
    "1. Controlled dynamical response\n",
    "2. Robustness to uncertainty\n",
    "3. Disturbance rejection \n",
    "4. Oscillations/instability/multi-stability\n",
    "\n",
    "Refer to [BFS](http://www.cds.caltech.edu/~murray/books/AM08/pdf/bfs-intro_14Sep14.pdf) for more information. "
   ]
  },
  {
   "cell_type": "markdown",
   "metadata": {},
   "source": [
    "# Input-Output System: A biological example\n",
    "\n",
    "Biologists have engineered switching behavior by regulating gene expression in bacteria. Read the paper by [Gardner et al. 2000](https://www.nature.com/articles/35002131) for more details. If we have two genes $A$ and $B$ that repress each other under control of inducer molecules $u_1$ and $u_2$ then it is possible to show that this gene regulatory network exhibits a bistable behavior - that is, it has two stable equilibrium points. Dependent on the input signal, the system would either express gene $A$ or gene $B$, giving rise to a \"toggle switch\" behavior.\n",
    "\n",
    "## Circuit Diagram\n",
    "The interaction diagram is shown using dnaplotlib below:"
   ]
  },
  {
   "cell_type": "code",
   "execution_count": 222,
   "metadata": {},
   "outputs": [
    {
     "data": {
      "image/png": "[encoded data removed]",
      "text/plain": [
       "<Figure size 432x288 with 1 Axes>"
      ]
     },
     "metadata": {},
     "output_type": "display_data"
    }
   ],
   "source": [
    "import dnaplotlib as dpl\n",
    "gene_A = {'type':'UserDefined', 'name':'A', 'opts': {'color':[0.38, 0.82, 0.32],\n",
    "                                               'label':'A', 'label_size':14,\n",
    "                                               'label_y_offset':0}}\n",
    "gene_B = {'type':'UserDefined', 'name':'B', 'opts': {'color':[0.8, 0.32, 0.32],\n",
    "                                               'label':'B', 'label_size':14,\n",
    "                                               'label_y_offset':0}}\n",
    "repress_A = {'from_part':gene_B, 'to_part':gene_A, 'type':'Repression', \n",
    "             'opts':{'linewidth':1, 'color':[0, 0, 0], 'arc_height':-10,\n",
    "             'arc_height_start':-3, 'arc_height_end':-6},\n",
    "             'fwd':True\n",
    "            }\n",
    "repress_B = {'from_part':gene_A, 'to_part':gene_B, 'type':'Repression', \n",
    "               'opts':{'linewidth':1, 'color':[0, 0, 0],\n",
    "                       'arc_height':10,'arc_height_start':3, \n",
    "                       'arc_height_end':6}\n",
    "            }\n",
    "import matplotlib.pyplot as plt\n",
    "%matplotlib inline\n",
    "ax = plt.axes()\n",
    "dr = dpl.DNARenderer()\n",
    "start, end = dr.renderDNA(ax, [gene_A, gene_B], regs = [repress_A, repress_B], \n",
    "                          part_renderers = dr.SBOL_part_renderers(), \n",
    "                          reg_renderers = dr.std_reg_renderers(), \n",
    "                          plot_backbone = False)\n",
    "ax.set_xlim([start, end])\n",
    "ax.set_ylim([-15,15])\n",
    "ax.set_aspect('equal')\n",
    "ax.set_xticks([])\n",
    "ax.set_yticks([])\n",
    "ax.set_title('Toggle Switch')\n",
    "ax.axis('off');"
   ]
  },
  {
   "cell_type": "markdown",
   "metadata": {},
   "source": [
    "## Nonlinear mathematical model"
   ]
  },
  {
   "cell_type": "markdown",
   "metadata": {},
   "source": [
    "Consider the following model of a bistable switch (Gardner et al. 2000 and BFS Ch. 5):\n",
    "\n",
    "$\\frac{dA}{dt} = \\frac{\\beta}{1 + \\left(\\frac{B}{K_B(u_2)}\\right)^n} - \\gamma A$\n",
    "\n",
    "$\\frac{dB}{dt} = \\frac{\\beta}{1 + \\left(\\frac{A}{K_A(u_1)}\\right)^n} - \\gamma B$\n",
    "\n",
    "where\n",
    "\n",
    "$K_A(u_1) = K\\left(1 + \\frac{u_1}{K_{d_1}}\\right)$\n",
    "and \n",
    "$K_B(u_2) = K\\left(1 + \\frac{u_2}{K_{d_2}}\\right)$\n",
    "\n",
    "In this system description, we have $x = \\begin{bmatrix}A \\\\ B\\end{bmatrix}$, $u = \\begin{bmatrix} u_1 \\\\ u_2 \\end{bmatrix}$, and $y = \\begin{bmatrix}A \\\\ B\\end{bmatrix}$, that is both states are also outputs, so $y = x$. "
   ]
  },
  {
   "cell_type": "markdown",
   "metadata": {},
   "source": [
    "## Simulation\n",
    "\n",
    "To simulate the mathematical model given above, we use odeint as demonstrated in [week3_intro_ode.ipynb](https://pages.hmc.edu/pandey/reading/week3_intro_ode.ipynb).\n",
    "\n",
    "### Define the ODE"
   ]
  },
  {
   "cell_type": "code",
   "execution_count": 181,
   "metadata": {},
   "outputs": [],
   "source": [
    "def toggle_switch(x, t, *args):\n",
    "    # Get all parameters and inputs\n",
    "    beta, gamma, K, K_d1, K_d2, n, u1, u2 = args\n",
    "    # Compute lumped input parameters\n",
    "    K_A = K*(1 + u1/K_d1)\n",
    "    K_B = K*(1 + u2/K_d2)\n",
    "    \n",
    "    # Compute RHS of ODE\n",
    "    # Here x = [A, B] so A = x[0] and B = x[1]\n",
    "    dx_dt = np.zeros_like(x)\n",
    "    dx_dt[0] = beta/(1 + (x[1]/K_B)**n) - gamma * x[0]\n",
    "    dx_dt[1] = beta/(1 + (x[0]/K_A)**n) - gamma * x[1]\n",
    "    return dx_dt\n",
    "\n",
    "from scipy.integrate import odeint\n",
    "import numpy as np\n",
    "\n",
    "# Parameter values from BFS Figure 5.3\n",
    "beta = 1\n",
    "gamma = 1\n",
    "K_d1 = 1\n",
    "K_d2 = 1\n",
    "K = np.sqrt(0.1)\n",
    "n = 2\n",
    "\n",
    "# Switch B on by setting u1 = 1 (repress A) and u2 = 0\n",
    "u1 = 1\n",
    "u2 = 0\n",
    "initial_values = np.array([0, 0])\n",
    "timepoints = np.linspace(0,50,100)\n",
    "solution_switchA = odeint(func = toggle_switch, y0 = initial_values, t = timepoints, \n",
    "                  args = (beta, gamma, K, K_d1, K_d2, n, u1, u2))\n",
    "\n",
    "# Switch A on by setting u2 = 1 and u1 = 0\n",
    "u1 = 0\n",
    "u2 = 1\n",
    "# Continue simulation with changed values\n",
    "new_timepoints = np.linspace(timepoints[-1], 100, 100)\n",
    "solution_switchB = odeint(func = toggle_switch, y0 = solution_switchA[-1,:], t = new_timepoints, \n",
    "                  args = (beta, gamma, K, K_d1, K_d2, n, u1, u2))\n",
    "\n",
    "solution = np.concatenate((solution_switchA, solution_switchB), axis = 0)\n",
    "total_timepoints = np.concatenate((timepoints, new_timepoints))"
   ]
  },
  {
   "cell_type": "markdown",
   "metadata": {},
   "source": [
    "### Controlled dynamical in response to inputs: \n",
    "\n",
    "After t = 50, the input signals are switched so that u2 = 1 and u1 = 0. We observe that the we can control the system switching behavior by switching the input signals (in this case, by adding chemical inducers to the solution). This demonstrates a key feature of feedback systems, that we can design dynamical response of a system in a controlled manner."
   ]
  },
  {
   "cell_type": "code",
   "execution_count": 182,
   "metadata": {},
   "outputs": [
    {
     "data": {
      "image/png": "[encoded data removed]",
      "text/plain": [
       "<Figure size 432x288 with 1 Axes>"
      ]
     },
     "metadata": {
      "needs_background": "light"
     },
     "output_type": "display_data"
    }
   ],
   "source": [
    "import matplotlib.pyplot as plt\n",
    "ax = plt.axes()\n",
    "ax.plot(total_timepoints, solution[:,0], lw = 3, label = 'A')\n",
    "ax.plot(total_timepoints, solution[:,1], lw = 3, label = 'B')\n",
    "ax.set_xlabel('$t$', fontsize = 18)\n",
    "ax.set_ylabel('$A$ and $B$', fontsize = 18)\n",
    "ax.tick_params(labelsize = 14)\n",
    "ax.legend();"
   ]
  },
  {
   "cell_type": "markdown",
   "metadata": {},
   "source": [
    "You can compare odeint performance with your numerical integrator by running both simultaneously."
   ]
  },
  {
   "cell_type": "markdown",
   "metadata": {},
   "source": [
    "##  Robustness to uncertainty in feedback systems"
   ]
  },
  {
   "cell_type": "markdown",
   "metadata": {},
   "source": [
    "Initial condition response (for differing initial concentrations of protein B in the solution)"
   ]
  },
  {
   "cell_type": "code",
   "execution_count": 233,
   "metadata": {},
   "outputs": [
    {
     "data": {
      "image/png": "[encoded data removed]",
      "text/plain": [
       "<Figure size 432x288 with 1 Axes>"
      ]
     },
     "metadata": {
      "needs_background": "light"
     },
     "output_type": "display_data"
    }
   ],
   "source": [
    "beta = 1\n",
    "gamma = 1\n",
    "K_d1 = 1\n",
    "K_d2 = 1\n",
    "K = np.sqrt(0.1)\n",
    "n = 2\n",
    "\n",
    "# Switch B on by setting u1 = 1 (repress A) and u2 = 0\n",
    "u1 = 1\n",
    "u2 = 0\n",
    "# Set different initial conditions for concentration of protein B\n",
    "ax = plt.axes()\n",
    "for B0 in [0,2,5]:\n",
    "    initial_values = np.array([0, B0])\n",
    "    timepoints = np.linspace(0,50,100)\n",
    "    solution_switchA = odeint(func = toggle_switch, y0 = initial_values, t = timepoints, \n",
    "                      args = (beta, gamma, K, K_d1, K_d2, n, u1, u2))\n",
    "\n",
    "    # Switch A on by setting u2 = 1 and u1 = 0\n",
    "    u1 = 0\n",
    "    u2 = 1\n",
    "    # Continue simulation with changed values\n",
    "    new_timepoints = np.linspace(timepoints[-1], 100, 100)\n",
    "    solution_switchB = odeint(func = toggle_switch, y0 = solution_switchA[-1,:], t = new_timepoints, \n",
    "                      args = (beta, gamma, K, K_d1, K_d2, n, u1, u2))\n",
    "\n",
    "    solution = np.concatenate((solution_switchA, solution_switchB), axis = 0)\n",
    "    total_timepoints = np.concatenate((timepoints, new_timepoints))\n",
    "    ax.plot(total_timepoints, solution[:,0], lw = 2, label = 'A, B(0) = ' + str(B0))\n",
    "    ax.plot(total_timepoints, solution[:,1], lw = 2, label = 'B, B(0) = ' + str(B0))\n",
    "ax.set_xlabel('$t$', fontsize = 18)\n",
    "ax.set_ylabel('$A$ and $B$', fontsize = 18)\n",
    "ax.tick_params(labelsize = 14)\n",
    "ax.legend();"
   ]
  },
  {
   "cell_type": "markdown",
   "metadata": {},
   "source": [
    "Initial condition response (for differing initial concentrations of protein A in the solution)"
   ]
  },
  {
   "cell_type": "code",
   "execution_count": 234,
   "metadata": {},
   "outputs": [
    {
     "data": {
      "image/png": "[encoded data removed]",
      "text/plain": [
       "<Figure size 432x288 with 1 Axes>"
      ]
     },
     "metadata": {
      "needs_background": "light"
     },
     "output_type": "display_data"
    }
   ],
   "source": [
    "beta = 1\n",
    "gamma = 1\n",
    "K_d1 = 1\n",
    "K_d2 = 1\n",
    "K = np.sqrt(0.1)\n",
    "n = 2\n",
    "\n",
    "# Switch B on by setting u1 = 1 (repress A) and u2 = 0\n",
    "u1 = 1\n",
    "u2 = 0\n",
    "# Set different initial conditions for concentration of protein B\n",
    "ax = plt.axes()\n",
    "for A0 in [0,2,5]:\n",
    "    initial_values = np.array([A0, 0])\n",
    "    timepoints = np.linspace(0,50,100)\n",
    "    solution_switchA = odeint(func = toggle_switch, y0 = initial_values, t = timepoints, \n",
    "                      args = (beta, gamma, K, K_d1, K_d2, n, u1, u2))\n",
    "\n",
    "    # Switch A on by setting u2 = 1 and u1 = 0\n",
    "    u1 = 0\n",
    "    u2 = 1\n",
    "    # Continue simulation with changed values\n",
    "    new_timepoints = np.linspace(timepoints[-1], 100, 100)\n",
    "    solution_switchB = odeint(func = toggle_switch, y0 = solution_switchA[-1,:], t = new_timepoints, \n",
    "                      args = (beta, gamma, K, K_d1, K_d2, n, u1, u2))\n",
    "\n",
    "    solution = np.concatenate((solution_switchA, solution_switchB), axis = 0)\n",
    "    total_timepoints = np.concatenate((timepoints, new_timepoints))\n",
    "    ax.plot(total_timepoints, solution[:,0], lw = 2, label = 'A, A(0) = ' + str(A0))\n",
    "    ax.plot(total_timepoints, solution[:,1], lw = 2, label = 'B, A(0) = ' + str(A0))\n",
    "ax.set_xlabel('$t$', fontsize = 18)\n",
    "ax.set_ylabel('$A$ and $B$', fontsize = 18)\n",
    "ax.tick_params(labelsize = 14)\n",
    "ax.legend();"
   ]
  },
  {
   "cell_type": "markdown",
   "metadata": {},
   "source": [
    "## Multi-stability in feedback systems:"
   ]
  },
  {
   "cell_type": "code",
   "execution_count": null,
   "metadata": {},
   "outputs": [],
   "source": []
  }
 ],
 "metadata": {
  "kernelspec": {
   "display_name": "Python 3",
   "language": "python",
   "name": "python3"
  },
  "language_info": {
   "codemirror_mode": {
    "name": "ipython",
    "version": 3
   },
   "file_extension": ".py",
   "mimetype": "text/x-python",
   "name": "python",
   "nbconvert_exporter": "python",
   "pygments_lexer": "ipython3",
   "version": "3.7.3"
  }
 },
 "nbformat": 4,
 "nbformat_minor": 2
}
