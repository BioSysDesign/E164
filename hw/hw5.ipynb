{
 "cells": [
  {
   "cell_type": "markdown",
   "metadata": {},
   "source": [
    "# The Foundations of Synthetic Biology\n",
    "Resources:\n",
    "\n",
    "1. [week4_hill_functions.ipynb](https://pages.hmc.edu/pandey/reading/week4_hill_functions.ipynb): This notebook introduces Hill functions, which are commonly used nonlinear functions to model regulation of gene expression.\n",
    "\n",
    "1. [week5_feedback_systems.ipynb](https://pages.hmc.edu/pandey/reading/week5_feedback_systems.ipynb): This notebook introduces the analysis of feedback systems using Python and elucidates the role of feedback in system design using simulations of mathematical models.\n",
    "\n",
    "1. [The Toggle Switch](https://www.nature.com/articles/35002131): Construction of a genetic toggle switch in _E. coli_. \n",
    "\n",
    "1. [The Repressilator](https://www.nature.com/articles/35002125): Construction of a synthetic oscillatory network of transcriptional regulators in _E. coli_. \n",
    "\n",
    "1. Python tutorials online: You are free to use any tutorials from the Internet on Numpy, Scipy, or any other Python package that you may use to solve the homework problems.\n",
    "\n",
    "1. Submit your homework to GradeScope by downloading the jupyter notebook as a PDF. Go to Files -> Download as -> PDF. If that does not work, you can go to File -> Print Preview -> Ctrl + P (to print) -> Save as PDF.\n",
    "\n",
    "Due date: 22nd February on GradeScope."
   ]
  },
  {
   "cell_type": "markdown",
   "metadata": {},
   "source": [
    "## Problem 1: The Toggle Switch & The Repressilator\n",
    "\n",
    "In November 2000, two research papers published in Nature reported the construction of genetic circuits in the bacteria _E. coli_. One of these systems, the toggle switch, reported that it is possible to engineer a genetic switch in bacteria. The Repressilator, on the other hand, reported oscillatory behavior engineered in _E. coli_ by using a gene regulatory network. Both the repressilator and the toggle switch systems are regarded as the systems that set the foundations of synthetic biology. Interestingly, both papers were published exactly at the same time from different labs working independently on circuits that shared quite a few properties. For example, both circuits use repressors to achieve different biological functions. The goal of this problem is to elucidate the synergy between biological design, mathematics, computation, and application as demonstrated in the two research papers. Read the two papers and answer the following questions:\n",
    "\n",
    "(a) Synthetic Biology Open Language ([SBOL](https://www.nature.com/articles/nbt.2891)) was developed to standardize synthetic biology circuit design diagrams. Note that SBOL was released in 2014, so the circuit design diagrams in the two foundational papers published in 2000 do not follow SBOL guidelines. Draw the circuit diagrams from the toggle switch and the repressilator papers using the SBOL standards. Make sure your diagram correctly labels the different circuit designs shown in the two papers. \n",
    "\n",
    "(b) From your circuit diagrams in part (a), write a coarse-grained chemical reaction model to mechanistically describe the two systems. For this problem, you can describe the mechanisms of transcription (mediated by RNA polymerase), translation (by ribosomes), repression (using transcription factors), and chemical induction (if applicable). You may ignore the chemical reaction details for binding of RNA polymerase to the promoter site, transcriptional isomerization, elongation, ribosome binding site, polypeptide chain elongation, protein maturation, and other molecular interactions.\n",
    "\n",
    "(c) Write an ODE model for the toggle switch system using the modeling approach discussed in class. Convert this ODE model to a dimensionless model as given in Box 1 of the toggle switch paper. \n",
    "\n",
    "(d) Use the ODE model described in the toggle switch paper to simulate the GFP concentration with time. Demonstrate the toggling behavior in your simulation by first simulating the system in the ON state (that is, GFP expressed). Then, simulate the chemical induction of an input that represses the GFP gene so that the system is in OFF state. Finally, show that the system remains in the OFF state even when the input is back to zero and can only be switched back to ON state by introducing the second input to the system that activates the GFP expression. Along with [GFP] with time, plot the input signals with time on a separate plot as well.\n",
    "\n",
    "(e) Use the ODE model described in the repressilator paper to simulate the GFP concentration with time. Demonstrate the oscillatory nature of the system and discuss the parameter values that give rise to the oscillations.\n",
    "\n",
    "(f) Write a short paragraph about the biomedical/healthcare/industrial challenges discussed in the two papers and comment on how a synthetic biology approach might address some of those challenges.\n",
    "\n",
    "(g) Give an overview of the topics/terminology/jargon that you could not understand as you read both of these papers.  "
   ]
  },
  {
   "cell_type": "markdown",
   "metadata": {},
   "source": [
    "## Feedback\n",
    "Please write here the number of hours you needed to finish this problem set and submit the feedback form on GradeScope for an extra point. "
   ]
  },
  {
   "cell_type": "markdown",
   "metadata": {},
   "source": [
    "Answer:"
   ]
  }
 ],
 "metadata": {
  "kernelspec": {
   "display_name": "Python 3",
   "language": "python",
   "name": "python3"
  },
  "language_info": {
   "codemirror_mode": {
    "name": "ipython",
    "version": 3
   },
   "file_extension": ".py",
   "mimetype": "text/x-python",
   "name": "python",
   "nbconvert_exporter": "python",
   "pygments_lexer": "ipython3",
   "version": "3.7.3"
  }
 },
 "nbformat": 4,
 "nbformat_minor": 2
}
