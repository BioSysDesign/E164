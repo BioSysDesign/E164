{
 "cells": [
  {
   "cell_type": "markdown",
   "metadata": {},
   "source": [
    "# Homework 2: Cell Growth: Experiments and Modeling\n",
    "\n",
    "In this homework, we will try to model growth of bacteria using the tools that we studied in the lecture. Further, we will connect these models with the experimental data - from microscopy videos and from optical density measurements. \n",
    "\n",
    "Here's some resources that you may find useful while solving the problems:\n",
    "\n",
    "1. [w2_data_analysis](https://biosysdesign.github.io/E164/reading/w2_data_analysis.ipynb) - This notebook contains some code on how to download the optical density data and use it with Pandas dataframe. You can download this Jupyter notebook from the course webpage.\n",
    "2. [BioNumbers database](https://bionumbers.hms.harvard.edu/search.aspx) - You can use this database to find out any biological parameters that you may need as you solve the problems. Please cite the ID number of the parameter from the database in your solutions. \n",
    "3. Microscopy video for _E. coli_ growth: https://vimeo.com/469629516\n",
    "4. Optical density measurements data for growth of _E. coli_ : [Download here](https://raw.githubusercontent.com/biocircuits/bioscrape/master/inference%20examples/data/od_data.csv)\n"
   ]
  },
  {
   "cell_type": "markdown",
   "metadata": {},
   "source": [
    "## Problem 1 - Idealized Cellular Growth Law\n",
    "<img src = \"./growth_media.png\" width=\"400\" height=\"400\" align = \"center\">\n",
    "\n",
    "<span style = \"color:blue;font-size:12px\">Growth of E. coli. The test tube on the left shows initial seeding of the bacteria right after inoculation. The right test tube is after a few hours of growth of _E. coli_. You can observe that the density of the medium changed. We can experimentally measure this density by measuring the light absorbance of this liquid culture and then calibrate with true cell counts to measure cell growth. Image credit: Physical Biology of the Cell 2nd Edition Phillips et al.</span>\n",
    "\n",
    "\n",
    "As we discussed in class, our understanding of the systems is enhanced by the use of dynamical systems => mathematical equations that we can use to numerically understand the growth of bacteria, expression of proteins, or any other physical change with time. We discussed the exponential growth dynamics in class. In this problem, we will revisit the exponential growth model and also look at other growth models. \n",
    "\n",
    "(a) Derive the general differential equation for growth of dividing bacteria given by:\n",
    "\n",
    "$\\frac{dx}{dt} = f(x, t)$ \n",
    "\n",
    "where $x(t)$ is a function of time that represents the number of bacteria at time $t$. To solve this problem, start by writing down the solution at time $t + \\Delta T$ as follows:\n",
    "\n",
    "$x(t + \\Delta T) = x(t) + f(x, t + \\Delta T)\\Delta T$ &emsp; &emsp; &emsp; &emsp; (1)\n",
    "\n",
    "Explain your derivation and what the different terms mean.\n",
    "\n",
    "(b) Implement the integration in Python by using equation (1) above. Choose $f(x,t)$ appropriately to model exponential growth as discussed in class. You can use a for loop to compute $x(t)$ at any given time $t$ by iteratively using equation (1) and an appropriate choice of $\\Delta T$. Compare your numerical solution with the analytically obtained integration solution on the same graph. You may choose any reasonable E. coli growth parameters to perform the simulation.\n",
    "\n",
    "(c) The differential equation that you derived in Part (b) (same as the one we derived in class) for exponential growth clearly states the growth rate parameter. Compute the growth rate numerically from your integrated solution for $x(t)$ with time. To perform this computation, you can numerically go in the reverse direction, that is, from the integrated solution that you now have for $x(t)$ for all time points, you can numerically compute the growth rate at each point by using equation (1). This back-computation of the growth rate should match up with the growth rate parameters that you chose earlier. \n"
   ]
  },
  {
   "cell_type": "markdown",
   "metadata": {},
   "source": [
    "<img src = \"./e_coli_microscopy.jpg\">\n",
    "\n",
    "<span style = \"color:blue;font-size:12px\">Snapshots from _E. coli_ growth video at different time points. The labeled time is in hours. Video: https://vimeo.com/469629516 </span>\n",
    "\n",
    "(d) From the _E. coli_ growth video shown in class, take snapshots at a fixed number of times and count the number of cells from the images at each of those snapshots to get the data for _E. coli_ growth from microscopy. Use this experimental evidence to fit your exponential growth model derived in Part (b). You may use the `curve_fit` function or manually fit your model to this experimental data. For the experimental data, you can count the number of cells for each of the four snapshots to get four data points and then try to fit the exponential growth model to this data. You can get better fits if you take more snapshots - you are free to have more than four data points.\n",
    "\n",
    "(e) Finally, download the optical density measurement data from the CSV file linked at the top of this homework. Convert the OD data to cell counts and then fit the exponential model using `curve_fit`. Plot the optical density data alongside your best fit for the exponential growth model. If `curve_fit` cannot fit this data, you may manually get a best fit. Comment on how well the exponential model fits this data and what this model cannot capture from the data (if anything)."
   ]
  },
  {
   "cell_type": "code",
   "execution_count": null,
   "metadata": {},
   "outputs": [],
   "source": [
    "# Solution:"
   ]
  },
  {
   "cell_type": "markdown",
   "metadata": {},
   "source": [
    "# Problem 2: Towards reality: Logistic Growth\n",
    "\n",
    "As you can observe in the optical density data for cellular growth, there are many peculiarities that are not exactly modeled by an exponential function. One way to model the different growth phases: lag phase, exponential phase, and the saturated phase is by the use of the logistic growth equation. This problem will help us understand this growth dynamics better. The differential equation for logistic growth is given by:\n",
    "\n",
    "$\\frac{dx}{dt} = kx\\left(1 - \\frac{x}{K}\\right)$ &emsp; &emsp; &emsp; &emsp; (2)\n",
    "\n",
    "(a) Integrate the differential equation numerically by using your numerical integrator from Problem 1. Plot the cell count $x(t)$ with time for an appropriate choice of parameters. Explain what the parameters mean phenomenologically and demonstrate this using your simulation of this model. You can try changing these parameters and plot different growth curves for different parameter values to understand these effects numerically. \n",
    "\n",
    "(b) Use the optical density measurement data from the CSV file linked at the top of this homework to compute the cell counts. Then, compute the growth rate numerically for this data. Using the growth rate computation plot, comment on the growth phases of the bacteria - the lag phase, the exponential phase (linear growth rate), and saturation.\n",
    "\n",
    "(c) Fit this OD data to the logistical growth model by using the `curve_fit` function. Report the fitted parameter values and the simulation of the fitted model alongside the experimental data. You are free to use any other optimization function or package in Python language to fit the data as long as you document your code clearly."
   ]
  },
  {
   "cell_type": "code",
   "execution_count": null,
   "metadata": {},
   "outputs": [],
   "source": [
    "# Solution"
   ]
  },
  {
   "cell_type": "markdown",
   "metadata": {},
   "source": [
    "## Feedback\n",
    "\n",
    "After finishing the problem set, please write here the number of hours you needed to finish it. I appreciate all the feedback on the previous homework set, so you can continue to use this space to send in any feedback that you may have."
   ]
  },
  {
   "cell_type": "code",
   "execution_count": null,
   "metadata": {},
   "outputs": [],
   "source": []
  }
 ],
 "metadata": {
  "kernelspec": {
   "display_name": "Python 3",
   "language": "python",
   "name": "python3"
  },
  "language_info": {
   "codemirror_mode": {
    "name": "ipython",
    "version": 3
   },
   "file_extension": ".py",
   "mimetype": "text/x-python",
   "name": "python",
   "nbconvert_exporter": "python",
   "pygments_lexer": "ipython3",
   "version": "3.7.4"
  }
 },
 "nbformat": 4,
 "nbformat_minor": 2
}
