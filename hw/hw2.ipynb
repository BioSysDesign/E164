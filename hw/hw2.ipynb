{
 "cells": [
  {
   "cell_type": "markdown",
   "metadata": {},
   "source": [
    "# Homework 2: Cell Growth Modeling\n",
    "\n",
    "In this homework, we will try to model growth of bacteria using the tools that we studied in the lecture. Further, we will connect these models with the experimental data - from microscopy videos and from optical density measurements. \n",
    "\n",
    "Here's some resources that you may find useful while solving the problems:\n",
    "\n",
    "1. [w2_data_analysis](https://pages.hmc.edu/pandey/reading/week2_data_analysis.ipynb) - This notebook contains some code on how to download the optical density data and use it with Pandas dataframe. You can download this Jupyter notebook from the course webpage.\n",
    "2. [BioNumbers database](https://bionumbers.hms.harvard.edu/search.aspx) - You can use this database to find out any biological parameters that you may need as you solve the problems. Please cite the ID number of the parameter from the database in your solutions. \n",
    "3. Microscopy video for _E. coli_ growth: https://vimeo.com/469629516\n",
    "4. Optical density measurements data for growth of _E. coli_ : [Download here](https://raw.githubusercontent.com/biocircuits/bioscrape/master/inference%20examples/data/od_data.csv)\n"
   ]
  },
  {
   "cell_type": "markdown",
   "metadata": {},
   "source": [
    "## Problem 1 - Idealized Cellular Growth Law\n",
    "<img src = \"./growth_media.png\" width=\"400\" height=\"400\" align = \"center\">\n",
    "\n",
    "<span style = \"color:blue;font-size:12px\">Fig 1: Growth of E. coli. The test tube on the left shows initial seeding of the bacteria right after inoculation. The right test tube is after a few hours of growth of _E. coli_. You can observe that the density of the medium changed. We can experimentally measure this density by measuring the light absorbance of this liquid culture and then calibrate with true cell counts to measure cell growth. Image credit: Physical Biology of the Cell 2nd Edition Phillips et al.</span>\n",
    "\n",
    "\n",
    "As we discussed in class, our understanding of the systems is enhanced by the use of dynamical systems => mathematical equations that we can use to numerically understand the growth of bacteria, expression of proteins, or any other physical change with time. We discussed the exponential growth dynamics in class. In this problem, we will revisit the exponential growth model and also look at other growth models. \n",
    "\n",
    "(a) Derive the general differential equation for growth of dividing bacteria given by:\n",
    "\n",
    "$\\frac{dx}{dt} = f(x, t)$ \n",
    "\n",
    "where $x(t)$ is a function of time that represents the number of bacteria at time $t$. To solve this problem, start by writing down the solution at time $t + \\Delta T$ as follows:\n",
    "\n",
    "$x(t + \\Delta T) = x(t) + f(x, t + \\Delta T)\\Delta T$ &emsp; &emsp; &emsp; &emsp; (1)\n",
    "\n",
    "Explain your derivation and what the different terms mean.\n",
    "\n"
   ]
  },
  {
   "cell_type": "markdown",
   "metadata": {},
   "source": [
    "(b) Implement the integration in Python by using equation (1) above. Choose $f(x,t)$ appropriately to model exponential growth as discussed in class. You can use a for loop to compute $x(t)$ at any given time $t$ by iteratively using equation (1) and an appropriate choice of $\\Delta T$. Compare your numerical solution with the analytically obtained integration solution on the same graph. You may choose any reasonable E. coli growth parameters to perform the simulation."
   ]
  },
  {
   "cell_type": "markdown",
   "metadata": {},
   "source": [
    "(c) Note that the differential equation that you derived in Part (b) (same as the one we derived in class) for exponential growth uses a growth rate parameter. Compute the growth rate numerically from your integrated solution for $x(t)$ with time and discuss how your numerical computation compares with the analytical growth rate value. \n",
    "\n",
    "Hint: To perform this computation, you can use the integrated solution for $x(t)$ for all time points and use equation (1) for exponential growth to find the growth rate at each point. "
   ]
  },
  {
   "cell_type": "markdown",
   "metadata": {},
   "source": [
    "<img src = \"./e_coli_microscopy.jpg\">\n",
    "\n",
    "<span style = \"color:blue;font-size:12px\">Fig 2: Snapshots from _E. coli_ growth video at different time points. The labeled time is in hours. Video: https://vimeo.com/469629516 </span>\n",
    "\n",
    "(d) Microscopy data: Use the _E. coli_ growth video as your experimental evidence for cell growth and fit an exponential growth model derived in Part (b) to this data. \n",
    "\n",
    "Hint: To get the experimental data, you can count the number of cells from snapshots shown in Fig. 2 to get four data points. You are free to take more snapshots to get better fits.\n",
    "\n",
    "(e) Optical density data: Download the optical density measurement data from this [CSV file](https://raw.githubusercontent.com/biocircuits/bioscrape/master/inference%20examples/data/od_data.csv). Convert the OD data to cell counts and then fit the exponential model to this cell growth data. Plot the optical density data alongside your best fit for the exponential growth model. Comment on how well the exponential model fits this data and what this model cannot capture from the data (if anything)."
   ]
  },
  {
   "cell_type": "code",
   "execution_count": null,
   "metadata": {},
   "outputs": [],
   "source": [
    "# Solution:"
   ]
  },
  {
   "cell_type": "markdown",
   "metadata": {},
   "source": [
    "# Problem 2: Towards reality: Logistic Growth\n",
    "\n",
    "As you can observe in the optical density data for cellular growth, there are many peculiarities that are not exactly modeled by an exponential function. One way to model the different growth phases: lag phase, exponential phase, and the saturated phase is by the use of the logistic growth equation. This problem will help us understand this growth dynamics better. The differential equation for logistic growth is given by:\n",
    "\n",
    "$\\frac{dx}{dt} = kx\\left(1 - \\frac{x}{C}\\right)$ &emsp; &emsp; &emsp; &emsp; (2)\n",
    "\n",
    "(a) Integrate the differential equation numerically by using your numerical integrator from Problem 1. Plot the cell count $x(t)$ with time for an appropriate choice of parameters. Explain what the parameters mean phenomenologically and demonstrate this using your simulation of this model. Show the effects of the parameters by plotting different growth curves for different parameter values to understand these effects numerically. \n",
    "\n",
    "(b) Compute the growth rate from the optical density measurement data [CSV](https://raw.githubusercontent.com/biocircuits/bioscrape/master/inference%20examples/data/od_data.csv) (same data as in problem 1e). Using the growth rate computation plot, comment on the growth phases of the bacteria - the lag phase, the exponential phase (linear growth rate), and saturation.\n",
    "\n",
    "(c) Fit the OD data to the logistic growth model to compute the optimal model parameters. Report the optimized parameter values and the simulation of the fitted model alongside the experimental data. You are free to use any optimization function or package in Python language to fit the data as long as you document your code clearly."
   ]
  },
  {
   "cell_type": "code",
   "execution_count": null,
   "metadata": {},
   "outputs": [],
   "source": [
    "# Solution"
   ]
  },
  {
   "cell_type": "markdown",
   "metadata": {},
   "source": [
    "## Feedback\n",
    "\n",
    "After finishing the problem set, please write here the number of hours you needed to finish it. Feel free to send any other feedback that you have regarding the HW or the lectures."
   ]
  },
  {
   "cell_type": "code",
   "execution_count": null,
   "metadata": {},
   "outputs": [],
   "source": []
  }
 ],
 "metadata": {
  "kernelspec": {
   "display_name": "Python 3",
   "language": "python",
   "name": "python3"
  },
  "language_info": {
   "codemirror_mode": {
    "name": "ipython",
    "version": 3
   },
   "file_extension": ".py",
   "mimetype": "text/x-python",
   "name": "python",
   "nbconvert_exporter": "python",
   "pygments_lexer": "ipython3",
   "version": "3.7.4"
  }
 },
 "nbformat": 4,
 "nbformat_minor": 2
}
