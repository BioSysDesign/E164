{
 "cells": [
  {
   "cell_type": "markdown",
   "metadata": {},
   "source": [
    "# Gene Regulation and Feedback Systems \n",
    "Resources:\n",
    "\n",
    "1. [week4_feedback_systems.ipynb](https://pages.hmc.edu/pandey/reading/week4_feedback_systems.ipynb): This notebook introduces the analysis of feedback systems using Python and elucidates the role of feedback in system design using simulations of mathematical models.\n",
    "\n",
    "2. [week4_hill_functions.ipynb](https://pages.hmc.edu/pandey/reading/week4_hill_functions.ipynb): This notebook introduces Hill functions, which are commonly used nonlinear functions to model regulation of gene expression.\n",
    "\n",
    "3. Python tutorials online: You are free to use any tutorials from the Internet on Numpy, Scipy, or any other Python package that you may use to solve the homework problems.\n",
    "\n",
    "4. Submit your homework to GradeScope by downloading the jupyter notebook as a PDF. Go to Files -> Download as -> PDF. If that does not work, you can go to File -> Print Preview -> Ctrl + P (to print) -> Save as PDF.\n",
    "\n",
    "Due date: 15th February on GradeScope."
   ]
  },
  {
   "cell_type": "markdown",
   "metadata": {},
   "source": [
    "## Problem 1: Negative Autoregulation \n",
    "\n",
    "[Adapted from BFS Figure 2.17 and from Michael Elowitz and Justin Bois Problems on Biological Circuit Design] \n",
    "\n",
    "Consider the two circuits shown below where a protein $A$ is expressed unregulated (left) vs. when it represses itself (right). Assume that we have the following parameters\n",
    "\n",
    "* $k_{tx}$: the transcription rate for mRNA ($T$), \n",
    "* $k_{tl}$: the translation rate for protein $A$, and \n",
    "* $d_T$ and $d_A$: the degradation rates for mRNA and protein respectively. "
   ]
  },
  {
   "cell_type": "code",
   "execution_count": 2,
   "metadata": {},
   "outputs": [
    {
     "data": {
      "image/png": "[encoded data removed]",
      "text/plain": [
       "<Figure size 432x288 with 2 Axes>"
      ]
     },
     "metadata": {},
     "output_type": "display_data"
    }
   ],
   "source": [
    "#### \n",
    "# You may ignore the following code that is used to generate the figure.\n",
    "####\n",
    "%matplotlib inline\n",
    "import dnaplotlib as dpl\n",
    "promoter_1 = {'type':'Promoter', 'name':'pA', 'fwd':True, 'opts': {'color':[0.38, 0.82, 0.32],\n",
    "                                                                   'label':'', 'label_size':20,\n",
    "                                                                   'label_y_offset':-8}}\n",
    "cds_1 = {'type':'CDS', 'name':'YFP',  'fwd':True, 'opts': {'color':[0.98, 0.82, 0.32],\n",
    "                                                          'label':'A', 'label_size':20}}\n",
    "term = {'type':'Terminator', 'name':'t0', 'fwd':True}\n",
    "design1 = [promoter_1, cds_1, term]\n",
    "\n",
    "import matplotlib.pyplot as plt\n",
    "fig, ax = plt.subplots(1,2, sharey='row')\n",
    "dpl.plot_sbol_designs([ax[0]], [design1])\n",
    "ax[0].set_title('Unregulated expression', fontsize = 14, \n",
    "                loc = 'center')\n",
    "# 2nd subplot\n",
    "auto_repress = {'from_part':cds_1, 'to_part':promoter_1, 'type':'Repression', \n",
    "               'opts':{'linewidth':1, 'color':[0, 0, 0]}}\n",
    "dpl.plot_sbol_designs([ax[1]], [design1], [[auto_repress]])\n",
    "ax[1].set_title('Autorepression', fontsize = 14, loc = 'center');"
   ]
  },
  {
   "cell_type": "markdown",
   "metadata": {},
   "source": [
    "(a) Write a coupled ODE model for the unregulated gene expression with mRNA and protein concentration as the state variables. Modify the unregulated expression model to give a phenomenological ODE model for autorepression. For repression, assume that the mRNA production rate decreases by a factor of $\\frac{1}{1+\\left(\\frac{A}{K}\\right)^n}$, where $A$ is the protein concentration, $K$ is the activation constant, and $n$ is the Hill coefficient. You can assume that there is zero leaky expression.\n",
    "\n",
    "(b) Derive the steady-state concentration for the mRNA and the protein, both for the unregulated and the autorepression model. Comment on the change in steady-state values, if any, due to gene regulation and its implications.\n",
    "\n",
    "(c) With initial conditions $T(0) = 0$ and $A(0) = 0$, numerically simulate the unregulated and the autorepressed models for biologically relevant parameters to generate plots for the mRNA and protein concentration with time. Comment on the speed of the response for the two circuits and their steady-states. \n",
    "\n",
    "(d) We discussed the separation of time-scales in the lectures by setting the mRNA dynamics to be at steady-state. Is that assumption justified for your numerical simulation in part (c)? If so, clearly explain why. If not, describe the conditions under which such an assumption may be justified.\n",
    "\n",
    "(e) How would you change your mathematical model if instead of autorepression we have autoactivation of the gene? Can you give a biological example of a gene that activates itself? (Hint: You may look for this example in the assigned readings or any research paper)."
   ]
  },
  {
   "cell_type": "markdown",
   "metadata": {},
   "source": [
    "## Problem 2: Induction of Transcription Factors\n",
    "\n",
    "[Adapted from PBoC P19.6] \n",
    "\n",
    "Even though experiments where the concentration of a transcription factor is varied are easier to interpret in terms of models, the experiments that are the easiest to perform are those where the affinity of the transcription factor to its specific binding sites on the DNA is regulated by an inducer molecule. In the case of Lac repressor, allolactose or any of its analogs (IPTG, for example) can be used to reduce its specific binding energy to values similar to its nonspecific binding to DNA. For this problem, assume a simple model of induction where one inducer molecule binds to the repressor, which then loses its ability to bind specifically to its operator site (that is, a negative inducer for the repressor). \n",
    "\n",
    "(a) Draw an interaction diagram for the expression of a Lac repressor controlled gene induced by IPTG.\n",
    "\n",
    "(b) Describe the mechanisms represented in your diagram in part (a) using chemical reactions. \n",
    "\n",
    "(c) Write a phenomenological model using Hill function(s) to quantify the action of the repressor, the inducer, and the gene expression. Explain the parameters in your model and choose biologically relevant values.\n",
    "\n",
    "(b) Quantify the effect of the repression and plot it as a function of the inducer concentration in the cell."
   ]
  },
  {
   "cell_type": "code",
   "execution_count": null,
   "metadata": {},
   "outputs": [],
   "source": [
    "# Solution"
   ]
  },
  {
   "cell_type": "markdown",
   "metadata": {},
   "source": [
    "## Problem 3: Gene Regulation and Healthcare Challenges\n",
    "\n",
    "Describe how you would apply the concepts from the class on regulating gene expression to solve a healthcare challenge. Give as much detail as you can about the system and your proposed solution."
   ]
  },
  {
   "cell_type": "code",
   "execution_count": 3,
   "metadata": {},
   "outputs": [],
   "source": [
    "# Answer"
   ]
  },
  {
   "cell_type": "markdown",
   "metadata": {},
   "source": [
    "## Feedback\n",
    "Please write here the number of hours you needed to finish this problem set and if you have any other feedback on this course until now."
   ]
  },
  {
   "cell_type": "markdown",
   "metadata": {},
   "source": [
    "Answer:"
   ]
  }
 ],
 "metadata": {
  "kernelspec": {
   "display_name": "Python 3",
   "language": "python",
   "name": "python3"
  },
  "language_info": {
   "codemirror_mode": {
    "name": "ipython",
    "version": 3
   },
   "file_extension": ".py",
   "mimetype": "text/x-python",
   "name": "python",
   "nbconvert_exporter": "python",
   "pygments_lexer": "ipython3",
   "version": "3.7.3"
  }
 },
 "nbformat": 4,
 "nbformat_minor": 2
}
