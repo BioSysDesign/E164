{
 "cells": [
  {
   "cell_type": "markdown",
   "metadata": {},
   "source": [
    "# Computational Biology and Python\n",
    "Resources:\n",
    "\n",
    "1. Computer Setup: If you are having issues installing or running any code, please review the setup [document](https://docs.google.com/document/d/1js7XQbjorU5LCIoWfrzkUCXjjQkVcITkT0N8osiy4Go/edit?usp=sharing) again \n",
    "If you followed all steps correctly but still cannot run the jupyter notebooks, post on Piazza.\n",
    "\n",
    "2. w1_python_intro.ipynb: If you are new to Python, you will find this notebook a good starting point. The notebook also contains code that you may want to re-use for the homework.\n",
    "\n",
    "3. Python tutorials online: You are free to use any tutorials from the Internet on Numpy, Scipy, Pandas, or any other Python package that you may use to solve the homework problems.\n",
    "\n",
    "4. Submit your homework to GradeScope by downloading the jupyter notebook as a PDF. Go to Files -> Download as -> PDF.\n",
    "\n",
    "Due date: 25th January on GradeScope."
   ]
  },
  {
   "cell_type": "markdown",
   "metadata": {},
   "source": [
    "## Problem 1: Computational Biology and E164\n",
    "Summarize the paper Computational Systems Biology by Hiroaki Kitano ([PDF here](https://www.nature.com/articles/nature01254.pdf)) in your own words. As you write the summary, make a note of terms/phrases/concepts that you did not fully understand from the paper. Also, reflect on things from the paper that intrigued you the most and things that you would like to discuss in E164."
   ]
  },
  {
   "cell_type": "markdown",
   "metadata": {},
   "source": [
    "Answer:"
   ]
  },
  {
   "cell_type": "markdown",
   "metadata": {},
   "source": [
    "## Problem 2: Practice your Python: Preliminary modeling of COVID-19 growth \n",
    "\n",
    "(a) Use the code in this notebook to download confirmed COVID-19 case data from Nov 1 2021 to now for California and New York. Plot this data on two different graphs with labeled axes (date on X-axis and case numbers on Y-axis) and legends.\n",
    "\n",
    "(b) Explore how the people of California and New York got their vaccines against COVID-19. Generate a plot for the number of people fully vaccinated against COVID-19 in these two states. Hint: You can use the `Pandas` package documentation to learn about the various functions available to use on a Pandas dataframe (that is, the dataframe `x` in the code given). \n",
    "\n",
    "(c) Model the infection growth by fitting a curve to the data obtained in part (a). You may try to fit an exponential function to the data or modify the function as needed to get the best fit possible. Report the mathematical function that you used to fit the data for the two states, the optimized parameters, and their covariances. Comment on the optimality of your curve fit. \n",
    "\n",
    "(d) Compute the doubling time of the infection spread from your mathematical model in part (c).\n",
    "\n",
    "(e) Predict the date on which the number of confirmed cases in the two states (CA, NY) and the country (USA) will be equal to the number of confirmed cases on Nov 1 2021. You may assume that the end point of the available data is the peak of the infection growth and that the number of infections will go down in a mirrored fashion. Show your work on how you compute your prediction using Python. Note that you need to make three predictions, one each for CA, NY, and USA.\n",
    "\n",
    "(f) Plot your results in part (e) by making three different graphs which show the existing data and your forecast clearly. If this was the curve that you wanted to fit (Nov 1 - now - future), which function would you choose? Are there any other ways in Scipy to fit such a data? You don't need to actually fit this data but you are welcome to try for bonus credit."
   ]
  },
  {
   "cell_type": "markdown",
   "metadata": {},
   "source": [
    "### Get real COVID-19 infection growth data using the following code:"
   ]
  },
  {
   "cell_type": "markdown",
   "metadata": {},
   "source": [
    "> Run the command `pip install covid19h` to install this package from your terminal or search for the package `covid19h` in your Anaconda Navigator. You may also need to install the `Pandas` package to run the code and work with the dataset. Simply run `pip install pandas` or search for `Pandas` in your navigator."
   ]
  },
  {
   "cell_type": "code",
   "execution_count": 1,
   "metadata": {},
   "outputs": [],
   "source": [
    "from covid19dh import covid19\n",
    "from datetime import date\n",
    "import numpy as np\n",
    "# Use the covid19dh package to get the data\n",
    "x, src = covid19(\"USA\", level = 2, start = date(2021,11,1), verbose = False)\n",
    "# Then, with some magic of the Pandas package we get the data out in numpy arrays:\n",
    "california_case_data = np.array(x[x['key_apple_mobility'] == 'California']['confirmed'])\n",
    "newyork_case_data = np.array(x[x['key_apple_mobility'] == 'New York']['confirmed'])"
   ]
  },
  {
   "cell_type": "code",
   "execution_count": 2,
   "metadata": {},
   "outputs": [],
   "source": [
    "# Solutions:\n",
    "# (a)"
   ]
  },
  {
   "cell_type": "code",
   "execution_count": 3,
   "metadata": {},
   "outputs": [],
   "source": [
    "# (b)"
   ]
  },
  {
   "cell_type": "code",
   "execution_count": 4,
   "metadata": {},
   "outputs": [],
   "source": [
    "# (c)"
   ]
  },
  {
   "cell_type": "code",
   "execution_count": 5,
   "metadata": {},
   "outputs": [],
   "source": [
    "# (d)"
   ]
  },
  {
   "cell_type": "code",
   "execution_count": 6,
   "metadata": {},
   "outputs": [],
   "source": [
    "# (e)"
   ]
  },
  {
   "cell_type": "code",
   "execution_count": 7,
   "metadata": {},
   "outputs": [],
   "source": [
    "# (f)"
   ]
  },
  {
   "cell_type": "markdown",
   "metadata": {},
   "source": [
    "## Problem 3: Feedback! The key to all things that function robustly.\n",
    "After finishing the rest of the problem set, please write here the number of hours you needed to finish it. Also comment on things in the homework and the class lectures that you did not find interesting/took too long/difficult or anything else that you would see changed. Remember you can always use private anonymous posts on Piazza to send any feedback as well. "
   ]
  },
  {
   "cell_type": "markdown",
   "metadata": {},
   "source": [
    "Answer:"
   ]
  }
 ],
 "metadata": {
  "kernelspec": {
   "display_name": "Python 3",
   "language": "python",
   "name": "python3"
  },
  "language_info": {
   "codemirror_mode": {
    "name": "ipython",
    "version": 3
   },
   "file_extension": ".py",
   "mimetype": "text/x-python",
   "name": "python",
   "nbconvert_exporter": "python",
   "pygments_lexer": "ipython3",
   "version": "3.7.4"
  }
 },
 "nbformat": 4,
 "nbformat_minor": 2
}
