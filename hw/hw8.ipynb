{
 "cells": [
  {
   "cell_type": "markdown",
   "metadata": {},
   "source": [
    "# Chemical Reactions Networks and Mathematical Modeling\n",
    " \n",
    "Resources:\n",
    "\n",
    "1. [week3_intro_ode.ipynb](https://pages.hmc.edu/pandey/reading/week3_intro_ode.ipynb): This notebook introduces Ordinary Differential Equations (ODE) to model biological systems. \n",
    "\n",
    "1. [hw3.ipynb](https://pages.hmc.edu/pandey/hw/hw3.ipynb): Homework 3 has problems on writing chemical reactions for transcription and translation. \n",
    "\n",
    "1. [hw4.ipynb](https://pages.hmc.edu/pandey/hw/hw4.ipynb): Homework 4 has problems on using Hill functions for gene regulatory circuits. This homework set will walk you through the derivations needed to arrive at the Hill functions.\n",
    "\n",
    "1. Python tutorials online: You are free to use any tutorials from the Internet on Numpy, Scipy, or any other Python package that you may use to solve the homework problems.\n",
    "\n",
    "1. Submit your homework to GradeScope by downloading the jupyter notebook as a PDF. Go to Files -> Download as -> PDF. If that does not work, you can go to File -> Print Preview -> Ctrl + P (to print) -> Save as PDF. Please make sure that the right side margins do not cut off your code or comments.\n",
    "\n",
    "Due date: 29th March on GradeScope."
   ]
  },
  {
   "cell_type": "markdown",
   "metadata": {},
   "source": [
    "# Problem 1: Hill functions model cooperativity \n",
    "\n",
    "[BFS 2.3] Consider the case of a competitive binding of an activator A and a repressor R with D and assume that before they can bind to D they have to cooperatively bind according to the following reactions:\n",
    "\n",
    "$ A + A + ... + A \\underset{k_2}{\\stackrel{k_1}{\\rightleftharpoons}} A_n$\n",
    "\n",
    "$ R + R + ... + R \\underset{\\bar{k}_2}{\\stackrel{\\bar{k}_1}{\\rightleftharpoons}} R_m$\n",
    "\n",
    "in which the complex $A_n$ contains $n$ molecules of $A$ and the complex $R_m$ contains $m$ molecules of $R$. The competitive binding reactions with $D$ are given by\n",
    "\n",
    "$A_n + D \\underset{d}{\\stackrel{a}{\\rightleftharpoons}}C$\n",
    "\n",
    "$R_m + D \\underset{d'}{\\stackrel{a'}{\\rightleftharpoons}}C'$\n",
    "\n",
    "and \n",
    "\n",
    "$D_{\\text{tot}} = D + C + C′$. \n",
    "\n",
    "What is the steady state expressions for $D$ as function of $A$ and $R$? Plot the steady-state of $D$ as $A$ and $R$ vary. Verify that as $n, m$ increase the functions become more switch-like (a step function). \n",
    "\n",
    "\n",
    "Hint: Start by writing rate equations, then derive steady-state expressions.\n",
    "\n"
   ]
  },
  {
   "cell_type": "markdown",
   "metadata": {},
   "source": [
    "# Problem 2: Leaky expression and Hill function activation from CRNs\n",
    "[BFS 2.9] Consider the form of the Hill function in the presence of an activator with some basal level of expression given in equation (2.22) of BFS. Derive the expressions of $\\alpha$, $K$ and $\\alpha_0$. \n",
    "\n",
    "Hint: Start by writing reaction rate equations, then derive the Hill functions to find expressions of the phenomenological parameters."
   ]
  },
  {
   "cell_type": "markdown",
   "metadata": {},
   "source": [
    "# Problem 3: Application to Healthcare Challenges\n",
    "\n",
    "Revisit your solution to Problem 3 in Homework 4. Elaborate on your textual description for that problem using the tools that you have studied in this class. Write chemical reaction networks by mathematically presenting the challenge and the solution. Describe the CRN by defining the rate parameters, propensities, and the stoichiometries. Please make sure to add as many details as you can by reading papers from the literature. "
   ]
  },
  {
   "cell_type": "markdown",
   "metadata": {},
   "source": [
    "# Feedback:\n",
    "\n",
    "Please write here the number of hours you needed to finish this problem set."
   ]
  }
 ],
 "metadata": {
  "kernelspec": {
   "display_name": "Python 3",
   "language": "python",
   "name": "python3"
  },
  "language_info": {
   "codemirror_mode": {
    "name": "ipython",
    "version": 3
   },
   "file_extension": ".py",
   "mimetype": "text/x-python",
   "name": "python",
   "nbconvert_exporter": "python",
   "pygments_lexer": "ipython3",
   "version": "3.7.3"
  }
 },
 "nbformat": 4,
 "nbformat_minor": 2
}
