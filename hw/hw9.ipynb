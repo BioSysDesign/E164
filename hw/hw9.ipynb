{
 "cells": [
  {
   "cell_type": "markdown",
   "metadata": {},
   "source": [
    "# Systems Biology Markup Language for Biological Systems\n",
    " \n",
    "Systems Biology Markup Language, or SBML, is a language that standardizes the language of writing biological system models. A variety of computational tools support SBML to create, analyze, and simulate system models. A few examples are:\n",
    "\n",
    "1. [COPASI](https://copasi.org/): A GUI to create SBML models from scratch or to import existing SBML files. Provides numerous simulation and analysis tools.\n",
    "\n",
    "2. [RoadRunner](https://libroadrunner.readthedocs.io/en/latest/PythonAPIReference/api_reference.html): A Python simulator for SBML models.\n",
    "\n",
    "3. [Tellurium](http://tellurium.analogmachine.org/): A Python-based software to build SBML models.\n",
    "\n",
    "4.  [BioCRNpyler](https://github.com/BuildACell/BioCRNPyler): A Python-based software to build SBML models by specifying systems at a high-level of abstraction. \n",
    "\n",
    "5. [Bioscrape](https://github.com/biocircuits/bioscrape/): A simulator for SBML models that includes analysis tools such as sensitivity analysis and parameter identification.\n",
    "\n",
    "6. [AutoReduce](https://github.com/ayush9pandey/autoReduce): A software to automatically derive reduced-order models by using quasi-steady state approximation and conservation laws. Support SBML.\n",
    "\n",
    "7. [MATLAB Simbiology](https://www.mathworks.com/products/simbiology.html): MATLAB package to handle SBML models. \n",
    "\n",
    "A list of selected software tools that support SBML is on [this](https://github.com/BuildACell/txtlsim-python/wiki/Modeling-and-Analysis-Tools-for-Synthetic-Biology) link.\n",
    "\n",
    "The goal of this problem set is to introduce you to some of these computational tools by applying them to different problems.\n",
    "\n",
    "Due date: 5th April on GradeScope."
   ]
  },
  {
   "cell_type": "markdown",
   "metadata": {},
   "source": [
    "# Problem 1: Build SBML models\n",
    "\n",
    "Using a tool of your choice, build a chemical reaction network model for the toggle switch and the repressilator (refer to HW 5). Output your SBML file as text in your submission. Your model must contain the transcription and translation details of all genes in the systems. You may guess the parameter values for all reactions in the models. "
   ]
  },
  {
   "cell_type": "markdown",
   "metadata": {},
   "source": [
    "# Problem 2: Simulate SBML models\n",
    "\n",
    "a. Download the repressilator and the toggle switch model SBML files from the [BioModels](https://www.ebi.ac.uk/biomodels/) database. Simulate the SBML files using a tool of your choice. Show that you can change the simulation conditions (initial concentrations, parameter values, time points) and generate plots accordingly. \n",
    "\n",
    "b. Run both deterministic and stochastic simulations for both toggle switch and the repressilator. Demonstrate the functionality of each circuit using your simulations (toggling behavior for the toggle switch and oscillatory behavior for the repressilator). "
   ]
  },
  {
   "cell_type": "markdown",
   "metadata": {},
   "source": [
    "# Feedback:\n",
    "\n",
    "Please write here the number of hours you needed to finish this problem set."
   ]
  }
 ],
 "metadata": {
  "kernelspec": {
   "display_name": "Python 3",
   "language": "python",
   "name": "python3"
  },
  "language_info": {
   "codemirror_mode": {
    "name": "ipython",
    "version": 3
   },
   "file_extension": ".py",
   "mimetype": "text/x-python",
   "name": "python",
   "nbconvert_exporter": "python",
   "pygments_lexer": "ipython3",
   "version": "3.7.3"
  }
 },
 "nbformat": 4,
 "nbformat_minor": 2
}
