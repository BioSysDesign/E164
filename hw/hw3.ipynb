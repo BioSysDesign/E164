{
 "cells": [
  {
   "cell_type": "markdown",
   "metadata": {},
   "source": [
    "# Modeling the central dogma of molecular biology\n",
    "Resources:\n",
    "\n",
    "1. [week3_intro_ode.ipynb](https://pages.hmc.edu/pandey/reading/week3_intro_ode.ipynb): This notebook introduces how to model systems using differential equations in Python. The notebook also shows how to use `odeint` to integrate the ODEs to create a simulation of the model. \n",
    "\n",
    "3. Python tutorials online: You are free to use any tutorials from the Internet on Numpy, Scipy, or any other Python package that you may use to solve the homework problems.\n",
    "\n",
    "4. Submit your homework to GradeScope by downloading the jupyter notebook as a PDF. Go to Files -> Download as -> PDF. If that does not work, you can go to File -> Print Preview -> Ctrl + P (to print) -> Save as PDF.\n",
    "\n",
    "Due date: 8th February on GradeScope."
   ]
  },
  {
   "cell_type": "markdown",
   "metadata": {},
   "source": [
    "## Problem 1: Transcription and translation mechanisms\n",
    "\n",
    "[BFS 2.6] Consider the transcription and translation reactions incorporating the elongation process as considered in this chapter (Chapter 2, BFS) in equations (2.10)–(2.11). Modify them to the case in which an mRNA molecule can be translated to a polypeptide chain even while it is still elongating."
   ]
  },
  {
   "cell_type": "markdown",
   "metadata": {},
   "source": [
    "Answer:"
   ]
  },
  {
   "cell_type": "markdown",
   "metadata": {},
   "source": [
    "## Problem 2: Modeling transcription and translation\n",
    "\n",
    "(a) Write a simplified two-state model for transcription and translation that models the concentration of protein (X) and mRNA (T) as the two states. Describe what the different parameters mean in your model and how they relate to the various mechanisms of transcription and translation. \n",
    "\n",
    "(b) Choose biologically meaningful parameter values for your model in (a) assuming that we are modeling transcription and translation processes in a bacteria. Report the parameter values and show your work on how you estimate the parameter values.\n",
    "\n",
    "(c) What are the steady-state concentrations for the two states in your transcription-translation model. Report the steady-state values in terms of the parameters of your model.\n",
    "\n",
    "(d) Simulate your model and plot: (1) the mRNA concentration with time, (2) the protein concentration with time. Also, plot the analytically computed steady-state on this graph.\n",
    "\n",
    "(e) Using your mathematical model comment on how we can control the processes of transcription and translation. What would be the different ways in which we can control the protein expression?"
   ]
  },
  {
   "cell_type": "code",
   "execution_count": 2,
   "metadata": {},
   "outputs": [],
   "source": [
    "# Solutions:"
   ]
  },
  {
   "cell_type": "markdown",
   "metadata": {},
   "source": [
    "## Problem 3: Mathematical models from SBOL diagrams\n",
    "\n",
    "Synthetic Biology Open Language (SBOL) is the standard way to draw biological circuit diagrams. A Python library that can automatically create these diagrams is called `dnaplotlib`. This library can be used to specify the circuit design and it renders the diagram. In this problem, you will be given one such diagram created using `dnaplotlib`. You are asked to show your understanding of these diagrams by writing the mechanistic interactions that this diagram describes and a simple mathematical model that quantifies that understanding. \n",
    "\n",
    "(a) From the design diagram given below for expression of two genes, write the chemical reactions that model the system design. \n",
    "\n",
    "(b) Write a differential equation model for this system and simulate this model numerically to plot YFP and RFP with time. Choose biologically relevant parameters that represent pA, RBS1, and RBS2.\n",
    "\n",
    "Hint: You can write a phenomenological model by writing down the rates for the production and degradation of the two proteins. Think about how the two proteins are produced/degraded and how that affects the different parameter choices in your model.\n",
    "\n",
    "Note that to solve this problem, you do not need to install `dnaplotlib` and generate the diagram again, but you are free to do so and explore this library to create biological circuit diagrams."
   ]
  },
  {
   "cell_type": "code",
   "execution_count": 58,
   "metadata": {},
   "outputs": [],
   "source": [
    "#  Uncomment to install\n",
    "# !pip install dnaplotlib"
   ]
  },
  {
   "cell_type": "code",
   "execution_count": 87,
   "metadata": {},
   "outputs": [
    {
     "data": {
      "image/png": "[encoded data removed]",
      "text/plain": [
       "<Figure size 432x288 with 1 Axes>"
      ]
     },
     "metadata": {},
     "output_type": "display_data"
    }
   ],
   "source": [
    "import dnaplotlib as dpl\n",
    "\n",
    "promoter_1 = {'type':'Promoter', 'name':'pA', 'fwd':True, 'opts': {'color':[0.38, 0.82, 0.32],\n",
    "                                                                   'label':'pA', 'label_size':20,\n",
    "                                                                   'label_y_offset':-8}}\n",
    "rbs_1 = {'type':'RBS', 'name':'rbs_f1', 'fwd':True, 'opts': {'color':[0.58, 0.52, 0.12],\n",
    "                                                            'label':'RBS1', 'label_size':10,\n",
    "                                                            'label_y_offset':8}}\n",
    "cds_1 = {'type':'CDS', 'name':'YFP',  'fwd':True, 'opts': {'color':[0.98, 0.82, 0.32],\n",
    "                                                          'label':'YFP', 'label_size':20}}\n",
    "rbs_2 = {'type':'RBS', 'name':'rbs_f2', 'fwd':True, 'opts': {'color':[0.58, 0.52, 0.12],\n",
    "                                                            'label':'RBS2', 'label_size':10,\n",
    "                                                            'label_y_offset':8}}\n",
    "cds_2  = {'type':'CDS', 'name':'RFP',  'fwd':True, 'opts': {'color':[0.98, 0.02, 0.32],\n",
    "                                                           'label':'RFP', 'label_size':20}}\n",
    "term = {'type':'Terminator', 'name':'t0', 'fwd':True}\n",
    "design1 = [promoter_1, rbs_1, cds_1, rbs_2, cds_2, term]\n",
    "\n",
    "import matplotlib.pyplot as plt\n",
    "%matplotlib inline\n",
    "fig, ax = plt.subplots()\n",
    "dpl.plot_sbol_designs([ax], [design1]);"
   ]
  },
  {
   "cell_type": "code",
   "execution_count": 88,
   "metadata": {},
   "outputs": [],
   "source": [
    "# Solution"
   ]
  },
  {
   "cell_type": "markdown",
   "metadata": {},
   "source": [
    "## Feedback\n",
    "Please write here the number of hours you needed to finish this problem set and if you have any other feedback on this course until now."
   ]
  },
  {
   "cell_type": "markdown",
   "metadata": {},
   "source": [
    "Answer:"
   ]
  }
 ],
 "metadata": {
  "kernelspec": {
   "display_name": "Python 3",
   "language": "python",
   "name": "python3"
  },
  "language_info": {
   "codemirror_mode": {
    "name": "ipython",
    "version": 3
   },
   "file_extension": ".py",
   "mimetype": "text/x-python",
   "name": "python",
   "nbconvert_exporter": "python",
   "pygments_lexer": "ipython3",
   "version": "3.7.3"
  }
 },
 "nbformat": 4,
 "nbformat_minor": 2
}
